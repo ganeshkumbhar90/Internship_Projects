{
 "cells": [
  {
   "cell_type": "code",
   "execution_count": 8,
   "metadata": {},
   "outputs": [],
   "source": [
    "#importing Libraries\n",
    "import pandas as pd\n",
    "import selenium\n",
    "from selenium import webdriver\n",
    "from selenium.common.exceptions import StaleElementReferenceException, NoSuchElementException\n",
    "import numpy as np\n",
    "import time"
   ]
  },
  {
   "cell_type": "code",
   "execution_count": 9,
   "metadata": {},
   "outputs": [],
   "source": [
    "#Amazon\n",
    "driver=webdriver.Chrome()"
   ]
  },
  {
   "cell_type": "code",
   "execution_count": 10,
   "metadata": {},
   "outputs": [],
   "source": [
    "def producta(item):\n",
    "\n",
    "    driver.get('https://www.amazon.in')\n",
    "    search_box = driver.find_element_by_id('twotabsearchtextbox').send_keys(item)\n",
    "    search_button = driver.find_element_by_id(\"nav-search-submit-text\").click()\n",
    "\n",
    "    #Making empty list of all the data we need\n",
    "    rating1=[]\n",
    "    summary1=[]\n",
    "    review1=[]\n",
    "    site1=[]\n",
    "    ref1=[]\n",
    "    product1=[]\n",
    "    \n",
    "    #scroll\n",
    "    time.sleep(1)\n",
    "    for i in range(11):\n",
    "        value = 0\n",
    "        driver.execute_script(\"scrollBy(\"+ str(value) +\",+1000);\")\n",
    "        value += 1000\n",
    "    \n",
    "    #page number\n",
    "    try:\n",
    "        for i in range(5):    \n",
    "            time.sleep(2)   \n",
    "            urls=driver.find_elements_by_xpath(\"//div[@class='a-section a-spacing-medium']/div[2]/div[2]/div/div/div/h2/a\")\n",
    "            ne=driver.find_element_by_xpath(\"//li[@class='a-last']/a\")        \n",
    "            neln = ne.get_attribute('href')\n",
    "            for p in urls:\n",
    "                ref1.append(str(p.get_attribute('href')))  \n",
    "            driver.get(neln)\n",
    "\n",
    "    except NoSuchElementException as e:\n",
    "        pass\n",
    "\n",
    "    for url in ref1:\n",
    "        driver.get(url)\n",
    "        time.sleep(2)\n",
    "\n",
    "        try:\n",
    "            driver.find_element_by_xpath(\"//div[@id='reviews-medley-footer']/div[2]/a\").click()\n",
    "        except:\n",
    "            continue\n",
    "        \n",
    "        #review page\n",
    "        for page in range(10):\n",
    "            time.sleep(3)\n",
    "\n",
    "           #extracting required element\n",
    "            rating_tag = driver.find_elements_by_xpath(\"//div[@data-hook='review']/div/div/div[2]/a\")\n",
    "            summary_tag = driver.find_elements_by_xpath(\"//div[@data-hook='review']/div/div/div[2]\")\n",
    "            review_tag = driver.find_elements_by_xpath(\"//div[@data-hook='review']/div/div/div[4]\")\n",
    "\n",
    "            for i in rating_tag:\n",
    "                    if i.get_attribute('title') != '':\n",
    "                        name1=i.get_attribute('title')\n",
    "                        rating1.append(name1)\n",
    "                        site1.append('Amazon')\n",
    "                        product1.append(item)\n",
    "                    else:\n",
    "                        pass\n",
    "\n",
    "            #extracting summary\n",
    "            try:\n",
    "                for j in summary_tag:\n",
    "                    name2=j.text\n",
    "                    summary1.append(name2)\n",
    "            except NoSuchElementException as e:\n",
    "                pass\n",
    "\n",
    "            #extracting review\n",
    "            try:\n",
    "                for k in review_tag:\n",
    "                    name3=k.text\n",
    "                    review1.append(name3)\n",
    "            except NoSuchElementException as e:\n",
    "                pass\n",
    "\n",
    "            try:\n",
    "                driver.find_element_by_xpath(\"//ul[@class='a-pagination']/li[2]\").click()\n",
    "            except:\n",
    "                pass\n",
    "\n",
    "    dsa = pd.DataFrame({'rating' : rating1 ,'summary' : summary1 ,\n",
    "                             'review' :review1 ,'site' :site1,'product' : product1})\n",
    "    return dsa\n"
   ]
  },
  {
   "cell_type": "code",
   "execution_count": null,
   "metadata": {},
   "outputs": [],
   "source": [
    "a = producta('laptop')\n",
    "a.to_csv('a.csv')"
   ]
  },
  {
   "cell_type": "code",
   "execution_count": null,
   "metadata": {},
   "outputs": [],
   "source": [
    "b = producta('phone')\n",
    "b.to_csv('b.csv')"
   ]
  },
  {
   "cell_type": "code",
   "execution_count": null,
   "metadata": {},
   "outputs": [],
   "source": [
    "c = producta('headphone')\n",
    "c.to_csv('c.csv')"
   ]
  },
  {
   "cell_type": "code",
   "execution_count": null,
   "metadata": {},
   "outputs": [],
   "source": [
    "d = producta('Professional Camera')\n",
    "d.to_csv('d.csv')"
   ]
  },
  {
   "cell_type": "code",
   "execution_count": null,
   "metadata": {},
   "outputs": [],
   "source": [
    "e = producta('smartwatch')\n",
    "e.to_csv('e.csv')"
   ]
  },
  {
   "cell_type": "code",
   "execution_count": null,
   "metadata": {},
   "outputs": [],
   "source": [
    "f = producta('Printer')\n",
    "f.to_csv('f.csv')"
   ]
  },
  {
   "cell_type": "code",
   "execution_count": null,
   "metadata": {},
   "outputs": [],
   "source": [
    "g = producta('Moniter')\n",
    "g.to_csv('g.csv')"
   ]
  },
  {
   "cell_type": "code",
   "execution_count": null,
   "metadata": {},
   "outputs": [],
   "source": [
    "h = producta('Home theater')\n",
    "h.to_csv('h.csv')"
   ]
  },
  {
   "cell_type": "code",
   "execution_count": null,
   "metadata": {},
   "outputs": [],
   "source": [
    "i = producta('Router')\n",
    "i.to_csv('i.csv')"
   ]
  },
  {
   "cell_type": "code",
   "execution_count": null,
   "metadata": {},
   "outputs": [],
   "source": [
    "final_amazon = pd.concat([a,b,c,d,e,f,g,h,i])"
   ]
  },
  {
   "cell_type": "code",
   "execution_count": null,
   "metadata": {},
   "outputs": [],
   "source": [
    "final_amazon.to_csv('amazon.csv')"
   ]
  },
  {
   "cell_type": "code",
   "execution_count": null,
   "metadata": {},
   "outputs": [],
   "source": []
  }
 ],
 "metadata": {
  "kernelspec": {
   "display_name": "Python 3",
   "language": "python",
   "name": "python3"
  },
  "language_info": {
   "codemirror_mode": {
    "name": "ipython",
    "version": 3
   },
   "file_extension": ".py",
   "mimetype": "text/x-python",
   "name": "python",
   "nbconvert_exporter": "python",
   "pygments_lexer": "ipython3",
   "version": "3.8.5"
  }
 },
 "nbformat": 4,
 "nbformat_minor": 4
}
