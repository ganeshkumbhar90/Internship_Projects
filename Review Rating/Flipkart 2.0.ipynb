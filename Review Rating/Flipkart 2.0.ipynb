{
 "cells": [
  {
   "cell_type": "code",
   "execution_count": 2,
   "metadata": {},
   "outputs": [],
   "source": [
    "#importing Libraries\n",
    "import pandas as pd\n",
    "import selenium\n",
    "from selenium import webdriver\n",
    "from selenium.common.exceptions import StaleElementReferenceException, NoSuchElementException\n",
    "import numpy as np\n",
    "import time"
   ]
  },
  {
   "cell_type": "code",
   "execution_count": 3,
   "metadata": {},
   "outputs": [],
   "source": [
    "#Flipkart\n",
    "driver=webdriver.Chrome()"
   ]
  },
  {
   "cell_type": "code",
   "execution_count": 4,
   "metadata": {},
   "outputs": [],
   "source": [
    "    \n",
    "def productf(item):\n",
    "    driver.get(\"https://www.flipkart.com\")\n",
    "\n",
    "    try:\n",
    "        driver.find_element_by_xpath(\"//div[@class='_2QfC02']/button\").click()\n",
    "    except NoSuchElementException as e:\n",
    "        pass\n",
    "\n",
    "    #finding  different element\n",
    "    search = driver.find_element_by_xpath(\"//div[@class='_3OO5Xc']/input\")\n",
    "    search.send_keys(item)\n",
    "\n",
    "    driver.find_element_by_xpath(\"//button[@class='L0Z3Pu']\").click()\n",
    "\n",
    "    #Making empty list of all the data we need\n",
    "    rating=[]\n",
    "    summary=[]\n",
    "    review=[]\n",
    "    site=[]\n",
    "    ref=[]\n",
    "    product=[]\n",
    "\n",
    "    time.sleep(5)\n",
    "    for i in range(11):\n",
    "        value = 0\n",
    "        driver.execute_script(\"scrollBy(\"+ str(value) +\",+1000);\")\n",
    "        value += 1000\n",
    "\n",
    "\n",
    "    try:\n",
    "        for i in range(5):    \n",
    "            time.sleep(2)   \n",
    "            urls=driver.find_elements_by_xpath(\"//*[@id='container']/div/div[3]/div[1]/div[2]/div/div/div/div/a\")\n",
    "            ne = driver.find_element_by_css_selector('#container > div > div._36fx1h._6t1WkM._3HqJxg > div._1YokD2._2GoDe3 > div:nth-child(2) > div:nth-last-child(2) > div > div > nav > a:last-child')\n",
    "            neln = ne.get_attribute('href')\n",
    "            for p in urls:\n",
    "                ref.append(str(p.get_attribute('href')))  \n",
    "            driver.get(neln)\n",
    "\n",
    "    except NoSuchElementException as e:\n",
    "        pass\n",
    "\n",
    "    for url in ref:\n",
    "        driver.get(url)\n",
    "        time.sleep(2)\n",
    "        try:\n",
    "            driver.find_element_by_xpath(\"//div[@class='_3UAT2v _16PBlm']\").click() #clicking see all review  button\n",
    "        except:\n",
    "            continue\n",
    "\n",
    "        time.sleep(2)  \n",
    "        try:\n",
    "            a = driver.find_element_by_css_selector(\"#container > div > div._2tsNFb > div > div > div._1YokD2._3Mn1Gg.col-9-12 > div:last-child > div > div > span\").text.split()[3]\n",
    "            b = 5\n",
    "        except:\n",
    "            continue\n",
    "        num = np.arange(1,b)\n",
    "\n",
    "        for page in num:\n",
    "\n",
    "            #extracting required element\n",
    "            rating_tag = driver.find_elements_by_xpath(\"//div[@class='_3LWZlK _32lA32 _1BLPMq' or @class='_3LWZlK _1rdVr6 _1BLPMq' or  @class='_3LWZlK _1BLPMq']\")\n",
    "            summary_tag = driver.find_elements_by_xpath(\"//p[@class='_2-N8zT']\")\n",
    "            review_tag = driver.find_elements_by_xpath(\"//div[@class='t-ZTKy']\")\n",
    "\n",
    "\n",
    "            #exctacting rating\n",
    "            try:\n",
    "                for i in rating_tag:\n",
    "                    name1=i.text\n",
    "                    rating.append(int(name1))\n",
    "                    site.append('Flipkart')\n",
    "                    product.append(item)\n",
    "            except NoSuchElementException as e:\n",
    "                rating.append('_')\n",
    "                site.append('Flipkart')\n",
    "\n",
    "            #extracting summary\n",
    "            try:\n",
    "                for j in summary_tag:\n",
    "                    name2=j.text\n",
    "                    summary.append(name2)\n",
    "            except NoSuchElementException as e:\n",
    "                summary.append('_')\n",
    "\n",
    "            #extracting review\n",
    "            try:\n",
    "                for k in review_tag:\n",
    "                    name3=k.text\n",
    "                    review.append(name3)\n",
    "            except NoSuchElementException as e:\n",
    "                review.append('_')\n",
    "\n",
    "\n",
    "            try:\n",
    "                driver.get(driver.find_element_by_css_selector(\"#container > div > div._2tsNFb > div > div > div._1YokD2._3Mn1Gg.col-9-12 > div:last-child > div > div > nav > a:last-child\").get_attribute('href'))\n",
    "            except:\n",
    "                pass\n",
    "    ds = pd.DataFrame({'rating' : rating ,'summary' : summary ,\n",
    "                             'review' :review ,'site' :site,'product' : product})\n",
    "    return ds"
   ]
  },
  {
   "cell_type": "code",
   "execution_count": null,
   "metadata": {},
   "outputs": [],
   "source": [
    "a = productf('laptop')\n",
    "a.to_csv('a.csv')"
   ]
  },
  {
   "cell_type": "code",
   "execution_count": null,
   "metadata": {},
   "outputs": [],
   "source": [
    "b = productf('phone')\n",
    "b.to_csv('b.csv')"
   ]
  },
  {
   "cell_type": "code",
   "execution_count": null,
   "metadata": {},
   "outputs": [],
   "source": [
    "c = productf('headphone')\n",
    "c.to_csv('c.csv')"
   ]
  },
  {
   "cell_type": "code",
   "execution_count": null,
   "metadata": {},
   "outputs": [],
   "source": [
    "d = productf('Professional Camera')\n",
    "d.to_csv('d.csv')"
   ]
  },
  {
   "cell_type": "code",
   "execution_count": null,
   "metadata": {},
   "outputs": [],
   "source": [
    "e = productf('smartwatch')\n",
    "e.to_csv('e.csv')"
   ]
  },
  {
   "cell_type": "code",
   "execution_count": null,
   "metadata": {},
   "outputs": [],
   "source": [
    "f = productf('Printer')\n",
    "f.to_csv('f.csv')"
   ]
  },
  {
   "cell_type": "code",
   "execution_count": null,
   "metadata": {},
   "outputs": [],
   "source": [
    "g = productf('Moniter')\n",
    "g.to_csv('g.csv')"
   ]
  },
  {
   "cell_type": "code",
   "execution_count": null,
   "metadata": {},
   "outputs": [],
   "source": [
    "h = productf('Home theater')\n",
    "h.to_csv('h.csv')"
   ]
  },
  {
   "cell_type": "code",
   "execution_count": null,
   "metadata": {},
   "outputs": [],
   "source": [
    "i = productf('Router')\n",
    "i.to_csv('i.csv')"
   ]
  },
  {
   "cell_type": "code",
   "execution_count": null,
   "metadata": {},
   "outputs": [],
   "source": [
    "final_flipkart = pd.concat([a,b,c,d,e,f,g,h,i])"
   ]
  },
  {
   "cell_type": "code",
   "execution_count": null,
   "metadata": {},
   "outputs": [],
   "source": [
    "final_flipkart.to_csv('flipkart.csv')"
   ]
  }
 ],
 "metadata": {
  "kernelspec": {
   "display_name": "Python 3",
   "language": "python",
   "name": "python3"
  },
  "language_info": {
   "codemirror_mode": {
    "name": "ipython",
    "version": 3
   },
   "file_extension": ".py",
   "mimetype": "text/x-python",
   "name": "python",
   "nbconvert_exporter": "python",
   "pygments_lexer": "ipython3",
   "version": "3.8.5"
  }
 },
 "nbformat": 4,
 "nbformat_minor": 4
}
