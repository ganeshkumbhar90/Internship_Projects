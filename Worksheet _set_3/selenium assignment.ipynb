{
 "cells": [
  {
   "cell_type": "raw",
   "id": "5ec2432f",
   "metadata": {},
   "source": [
    "Q1: Write a python program to scrape data for “Data Analyst” Job position in “Bangalore” location. You have to scrape the job-title, job-location, company_name, experience_required. You have to scrape first 10 jobs data.\n",
    "This task will be done in following steps:\n",
    "1. First get the webpage https://www.naukri.com/\n",
    "2. Enter “Data Analyst” in “Skill, Designations, Companies” field and enter “Bangalore” in “enter the location” field.\n",
    "3. Then click the search button.\n",
    "4. Then scrape the data for the first 10 jobs results you get.\n",
    "5. Finally create a dataframe of the scraped data.\n",
    "Note: All of the above steps have to be done in code. No step is to be done manually."
   ]
  },
  {
   "cell_type": "code",
   "execution_count": 3,
   "id": "a5b1c366",
   "metadata": {},
   "outputs": [],
   "source": [
    "# import required liabraries\n",
    "import selenium\n",
    "from selenium import webdriver\n",
    "import pandas as pd\n",
    "import warnings\n",
    "warnings.filterwarnings(\"ignore\")"
   ]
  },
  {
   "cell_type": "code",
   "execution_count": 4,
   "id": "9f640798",
   "metadata": {},
   "outputs": [],
   "source": [
    "# coonection to webdriver\n",
    "driver=webdriver.Chrome(\"D:\\Internship Problems\\selenium\\chromedriver_win32\\chromedriver.exe\")"
   ]
  },
  {
   "cell_type": "code",
   "execution_count": 5,
   "id": "510f6c7d",
   "metadata": {},
   "outputs": [],
   "source": [
    "# coonection to url\n",
    "url=\"https://www.naukri.com/\"\n",
    "driver.get(url)"
   ]
  },
  {
   "cell_type": "code",
   "execution_count": 6,
   "id": "a5b9c7da",
   "metadata": {},
   "outputs": [
    {
     "data": {
      "text/plain": [
       "<selenium.webdriver.remote.webelement.WebElement (session=\"92a4bf3e2e125106a1ba663bd92eb55c\", element=\"08308c0d-a4e0-448a-8628-b140b5776620\")>"
      ]
     },
     "execution_count": 6,
     "metadata": {},
     "output_type": "execute_result"
    }
   ],
   "source": [
    "# finding the webelement search job bar using id\n",
    "search_job=driver.find_element_by_id(\"qsb-keyword-sugg\")\n",
    "search_job"
   ]
  },
  {
   "cell_type": "code",
   "execution_count": 7,
   "id": "84e58774",
   "metadata": {},
   "outputs": [],
   "source": [
    "# write on search bar\n",
    "search_job.send_keys(\"Data Analyst\")"
   ]
  },
  {
   "cell_type": "code",
   "execution_count": 8,
   "id": "cb6b2be6",
   "metadata": {},
   "outputs": [
    {
     "data": {
      "text/plain": [
       "<selenium.webdriver.remote.webelement.WebElement (session=\"92a4bf3e2e125106a1ba663bd92eb55c\", element=\"87dd28ea-287c-4244-baef-84210cfb08be\")>"
      ]
     },
     "execution_count": 8,
     "metadata": {},
     "output_type": "execute_result"
    }
   ],
   "source": [
    "# finding the webelement search job bar using id for location\n",
    "location=driver.find_element_by_id(\"qsb-location-sugg\")\n",
    "location"
   ]
  },
  {
   "cell_type": "code",
   "execution_count": 9,
   "id": "10510efb",
   "metadata": {},
   "outputs": [],
   "source": [
    "# write in location search bar\n",
    "location.send_keys(\"Bengalore\")"
   ]
  },
  {
   "cell_type": "code",
   "execution_count": 10,
   "id": "7c01d357",
   "metadata": {},
   "outputs": [
    {
     "data": {
      "text/plain": [
       "<selenium.webdriver.remote.webelement.WebElement (session=\"92a4bf3e2e125106a1ba663bd92eb55c\", element=\"eba87db0-4a6d-4037-97b8-94ef02d0a081\")>"
      ]
     },
     "execution_count": 10,
     "metadata": {},
     "output_type": "execute_result"
    }
   ],
   "source": [
    "# clicking on search button\n",
    "search_btn=driver.find_element_by_xpath(\"/html/body/div[1]/div[3]/div[2]/section/div/form/div[3]/button\")\n",
    "search_btn"
   ]
  },
  {
   "cell_type": "code",
   "execution_count": 11,
   "id": "5f3c73e1",
   "metadata": {},
   "outputs": [],
   "source": [
    "# clicking on search button\n",
    "search_btn.click()"
   ]
  },
  {
   "cell_type": "code",
   "execution_count": 15,
   "id": "b059fcc0",
   "metadata": {},
   "outputs": [
    {
     "data": {
      "text/plain": [
       "[<selenium.webdriver.remote.webelement.WebElement (session=\"92a4bf3e2e125106a1ba663bd92eb55c\", element=\"170e2601-4cbe-47fa-9f98-7dce569d35ef\")>,\n",
       " <selenium.webdriver.remote.webelement.WebElement (session=\"92a4bf3e2e125106a1ba663bd92eb55c\", element=\"689d1ac8-9fb7-4c7e-bf2d-61f819dc5fbb\")>,\n",
       " <selenium.webdriver.remote.webelement.WebElement (session=\"92a4bf3e2e125106a1ba663bd92eb55c\", element=\"3abde58e-8e95-468e-9a81-ea7c945b95ab\")>,\n",
       " <selenium.webdriver.remote.webelement.WebElement (session=\"92a4bf3e2e125106a1ba663bd92eb55c\", element=\"29d75a91-b8cb-415d-9429-525b4e0dd2f4\")>,\n",
       " <selenium.webdriver.remote.webelement.WebElement (session=\"92a4bf3e2e125106a1ba663bd92eb55c\", element=\"b2c1d475-c27f-4f97-9d58-a4d5c3c06df0\")>,\n",
       " <selenium.webdriver.remote.webelement.WebElement (session=\"92a4bf3e2e125106a1ba663bd92eb55c\", element=\"887ffb41-beba-40f4-adc7-bb2922a93ae9\")>,\n",
       " <selenium.webdriver.remote.webelement.WebElement (session=\"92a4bf3e2e125106a1ba663bd92eb55c\", element=\"4dae38b4-d16b-46f5-bc9d-d89331b28bc7\")>,\n",
       " <selenium.webdriver.remote.webelement.WebElement (session=\"92a4bf3e2e125106a1ba663bd92eb55c\", element=\"36bb8309-0ed9-46cc-a5a3-8d4215ab755d\")>,\n",
       " <selenium.webdriver.remote.webelement.WebElement (session=\"92a4bf3e2e125106a1ba663bd92eb55c\", element=\"8ef8e285-c412-4d82-8c18-c6b16b1fa100\")>,\n",
       " <selenium.webdriver.remote.webelement.WebElement (session=\"92a4bf3e2e125106a1ba663bd92eb55c\", element=\"8e16265c-a95c-48fb-8bea-770167179051\")>,\n",
       " <selenium.webdriver.remote.webelement.WebElement (session=\"92a4bf3e2e125106a1ba663bd92eb55c\", element=\"fc7ed236-784b-4e52-9bdf-3b2dd0995c1c\")>,\n",
       " <selenium.webdriver.remote.webelement.WebElement (session=\"92a4bf3e2e125106a1ba663bd92eb55c\", element=\"e2463b1e-7572-48ce-a28f-18f7a2be99f1\")>,\n",
       " <selenium.webdriver.remote.webelement.WebElement (session=\"92a4bf3e2e125106a1ba663bd92eb55c\", element=\"54a4cb8d-891c-4736-a2bd-018865f4b188\")>,\n",
       " <selenium.webdriver.remote.webelement.WebElement (session=\"92a4bf3e2e125106a1ba663bd92eb55c\", element=\"282d4937-8ecb-43d7-b2cf-f16e94962e17\")>,\n",
       " <selenium.webdriver.remote.webelement.WebElement (session=\"92a4bf3e2e125106a1ba663bd92eb55c\", element=\"603de23a-d94e-4315-8de6-357dba5e5ba5\")>,\n",
       " <selenium.webdriver.remote.webelement.WebElement (session=\"92a4bf3e2e125106a1ba663bd92eb55c\", element=\"6d973986-17b3-4998-abc8-26a0754c3a65\")>,\n",
       " <selenium.webdriver.remote.webelement.WebElement (session=\"92a4bf3e2e125106a1ba663bd92eb55c\", element=\"b284958d-ca75-49f0-85f0-ed4ccca11c3c\")>,\n",
       " <selenium.webdriver.remote.webelement.WebElement (session=\"92a4bf3e2e125106a1ba663bd92eb55c\", element=\"a185b2bb-e7cd-4bc0-959b-2a415c5c9fe3\")>,\n",
       " <selenium.webdriver.remote.webelement.WebElement (session=\"92a4bf3e2e125106a1ba663bd92eb55c\", element=\"89f13869-bfc1-4d46-92bd-ccd13b3c836a\")>,\n",
       " <selenium.webdriver.remote.webelement.WebElement (session=\"92a4bf3e2e125106a1ba663bd92eb55c\", element=\"f0f33ae9-6b24-4f6d-a032-7216e3781f6f\")>]"
      ]
     },
     "execution_count": 15,
     "metadata": {},
     "output_type": "execute_result"
    }
   ],
   "source": [
    "# extracting job title\n",
    "job_titles=driver.find_elements_by_xpath('//a[@class=\"title fw500 ellipsis\"]')\n",
    "job_titles"
   ]
  },
  {
   "cell_type": "code",
   "execution_count": 17,
   "id": "b6fb6974",
   "metadata": {},
   "outputs": [
    {
     "data": {
      "text/plain": [
       "['Senior Data Analyst',\n",
       " 'Financial Data Analyst',\n",
       " 'Data Analyst',\n",
       " 'Business Data Analyst - Database Design/Mining',\n",
       " 'Financial Data Analyst',\n",
       " 'Senior Data Analyst',\n",
       " 'Senior Data Analyst',\n",
       " 'Senior Data Analyst II',\n",
       " 'Senior Data Analyst II',\n",
       " 'Tcs Hiring For Data Analyst / Engineers']"
      ]
     },
     "execution_count": 17,
     "metadata": {},
     "output_type": "execute_result"
    }
   ],
   "source": [
    "# find the text of job title\n",
    "titles=[]\n",
    "for i in job_titles:\n",
    "    titles.append(i.text)\n",
    "titles=titles[:10]\n",
    "titles"
   ]
  },
  {
   "cell_type": "code",
   "execution_count": 34,
   "id": "8ed76c75",
   "metadata": {},
   "outputs": [
    {
     "data": {
      "text/plain": [
       "[<selenium.webdriver.remote.webelement.WebElement (session=\"92a4bf3e2e125106a1ba663bd92eb55c\", element=\"54f9167d-eec2-4134-9043-b68270292420\")>,\n",
       " <selenium.webdriver.remote.webelement.WebElement (session=\"92a4bf3e2e125106a1ba663bd92eb55c\", element=\"8c1b0619-5920-4d48-a5f6-07f79d1064fa\")>,\n",
       " <selenium.webdriver.remote.webelement.WebElement (session=\"92a4bf3e2e125106a1ba663bd92eb55c\", element=\"31bc23f5-9baf-4062-879a-dbff1294947a\")>,\n",
       " <selenium.webdriver.remote.webelement.WebElement (session=\"92a4bf3e2e125106a1ba663bd92eb55c\", element=\"e2de3138-a0f6-4686-b3f1-73db69963e48\")>,\n",
       " <selenium.webdriver.remote.webelement.WebElement (session=\"92a4bf3e2e125106a1ba663bd92eb55c\", element=\"0c652754-6711-4cf7-a59e-751a438c4195\")>,\n",
       " <selenium.webdriver.remote.webelement.WebElement (session=\"92a4bf3e2e125106a1ba663bd92eb55c\", element=\"e8595a2b-9724-46b1-a6d9-b1f8c4cd6463\")>,\n",
       " <selenium.webdriver.remote.webelement.WebElement (session=\"92a4bf3e2e125106a1ba663bd92eb55c\", element=\"bc2e64c2-b94b-463d-afc8-8fc8f15cdf39\")>,\n",
       " <selenium.webdriver.remote.webelement.WebElement (session=\"92a4bf3e2e125106a1ba663bd92eb55c\", element=\"df516bc2-3fcc-44fb-90e6-0144557f70a3\")>,\n",
       " <selenium.webdriver.remote.webelement.WebElement (session=\"92a4bf3e2e125106a1ba663bd92eb55c\", element=\"faa0213a-c262-4633-a83e-6db97c3e4c96\")>,\n",
       " <selenium.webdriver.remote.webelement.WebElement (session=\"92a4bf3e2e125106a1ba663bd92eb55c\", element=\"3740138b-2a3a-4185-b295-229c0f6d04c6\")>,\n",
       " <selenium.webdriver.remote.webelement.WebElement (session=\"92a4bf3e2e125106a1ba663bd92eb55c\", element=\"a886dba7-f8cf-4c8e-884b-807a36e54de5\")>,\n",
       " <selenium.webdriver.remote.webelement.WebElement (session=\"92a4bf3e2e125106a1ba663bd92eb55c\", element=\"d7c44b1a-af7c-413e-abce-10c3d50ba08b\")>,\n",
       " <selenium.webdriver.remote.webelement.WebElement (session=\"92a4bf3e2e125106a1ba663bd92eb55c\", element=\"e763c2b0-93c8-40c2-8b22-43dd637b15b0\")>,\n",
       " <selenium.webdriver.remote.webelement.WebElement (session=\"92a4bf3e2e125106a1ba663bd92eb55c\", element=\"6072af3f-ec7e-4440-b25b-57fa583c1f66\")>,\n",
       " <selenium.webdriver.remote.webelement.WebElement (session=\"92a4bf3e2e125106a1ba663bd92eb55c\", element=\"45431002-ad56-46fc-83e8-51c9b9a52678\")>,\n",
       " <selenium.webdriver.remote.webelement.WebElement (session=\"92a4bf3e2e125106a1ba663bd92eb55c\", element=\"98288018-2a7f-4656-b3ec-a47c925b0d3f\")>,\n",
       " <selenium.webdriver.remote.webelement.WebElement (session=\"92a4bf3e2e125106a1ba663bd92eb55c\", element=\"527964c7-2171-4884-a760-450d37e1cf5e\")>,\n",
       " <selenium.webdriver.remote.webelement.WebElement (session=\"92a4bf3e2e125106a1ba663bd92eb55c\", element=\"3e091ff9-efc7-48dd-9468-170485e7c3a9\")>,\n",
       " <selenium.webdriver.remote.webelement.WebElement (session=\"92a4bf3e2e125106a1ba663bd92eb55c\", element=\"7501fd30-d2ca-440c-a390-993c0ab4f4c9\")>,\n",
       " <selenium.webdriver.remote.webelement.WebElement (session=\"92a4bf3e2e125106a1ba663bd92eb55c\", element=\"16487a06-d34c-4794-9fe9-d123a7ae87d3\")>]"
      ]
     },
     "execution_count": 34,
     "metadata": {},
     "output_type": "execute_result"
    }
   ],
   "source": [
    "# scrapping the location\n",
    "location_tag=driver.find_elements_by_xpath('//li[@class=\"fleft grey-text br2 placeHolderLi location\"]')\n",
    "location_tag"
   ]
  },
  {
   "cell_type": "code",
   "execution_count": 35,
   "id": "9132f7f0",
   "metadata": {},
   "outputs": [
    {
     "data": {
      "text/plain": [
       "['Bangalore/Bengaluru',\n",
       " 'Bangalore/Bengaluru',\n",
       " 'Bangalore/Bengaluru(Ulsoor)',\n",
       " 'Bangalore/Bengaluru',\n",
       " 'Bangalore/Bengaluru',\n",
       " 'Bangalore/Bengaluru',\n",
       " 'Bengaluru/Bangalore',\n",
       " 'Bengaluru/Bangalore',\n",
       " 'Bangalore/Bengaluru',\n",
       " 'Pune, Bangalore/Bengaluru, Delhi / NCR']"
      ]
     },
     "execution_count": 35,
     "metadata": {},
     "output_type": "execute_result"
    }
   ],
   "source": [
    "location=[]  # empty list to store\n",
    "for i in location_tag:\n",
    "    location.append(i.text)\n",
    "location=location[:10]\n",
    "location"
   ]
  },
  {
   "cell_type": "code",
   "execution_count": 36,
   "id": "83ea8906",
   "metadata": {},
   "outputs": [
    {
     "data": {
      "text/plain": [
       "[<selenium.webdriver.remote.webelement.WebElement (session=\"92a4bf3e2e125106a1ba663bd92eb55c\", element=\"cb77a86a-cce7-4326-937d-272486690eea\")>,\n",
       " <selenium.webdriver.remote.webelement.WebElement (session=\"92a4bf3e2e125106a1ba663bd92eb55c\", element=\"76d0b50b-ece2-4d05-b1e0-8fd78b32cb83\")>,\n",
       " <selenium.webdriver.remote.webelement.WebElement (session=\"92a4bf3e2e125106a1ba663bd92eb55c\", element=\"aa5458bc-d845-4b94-af3c-a8d18efe58a1\")>,\n",
       " <selenium.webdriver.remote.webelement.WebElement (session=\"92a4bf3e2e125106a1ba663bd92eb55c\", element=\"af910980-d9bd-43ff-ab2f-5c43a1a05719\")>,\n",
       " <selenium.webdriver.remote.webelement.WebElement (session=\"92a4bf3e2e125106a1ba663bd92eb55c\", element=\"cb7ecea3-a2b2-471d-912a-a56e647b7f41\")>,\n",
       " <selenium.webdriver.remote.webelement.WebElement (session=\"92a4bf3e2e125106a1ba663bd92eb55c\", element=\"effb5f8b-a257-408e-9a33-2c041a34dc85\")>,\n",
       " <selenium.webdriver.remote.webelement.WebElement (session=\"92a4bf3e2e125106a1ba663bd92eb55c\", element=\"51e4ab9b-d776-4a4a-ad9e-72cffb72e892\")>,\n",
       " <selenium.webdriver.remote.webelement.WebElement (session=\"92a4bf3e2e125106a1ba663bd92eb55c\", element=\"d0f85f2c-614b-4258-a19c-fcf6ed43c451\")>,\n",
       " <selenium.webdriver.remote.webelement.WebElement (session=\"92a4bf3e2e125106a1ba663bd92eb55c\", element=\"89444f55-3e95-4be2-9cd4-88f81fb0ee89\")>,\n",
       " <selenium.webdriver.remote.webelement.WebElement (session=\"92a4bf3e2e125106a1ba663bd92eb55c\", element=\"a0a3a69c-e473-44ec-ae18-a0a225f57899\")>,\n",
       " <selenium.webdriver.remote.webelement.WebElement (session=\"92a4bf3e2e125106a1ba663bd92eb55c\", element=\"0896eee7-6d91-4359-b090-32c80a48a4ef\")>,\n",
       " <selenium.webdriver.remote.webelement.WebElement (session=\"92a4bf3e2e125106a1ba663bd92eb55c\", element=\"3f81fc37-fd5d-421e-a2c6-19e7bce63515\")>,\n",
       " <selenium.webdriver.remote.webelement.WebElement (session=\"92a4bf3e2e125106a1ba663bd92eb55c\", element=\"bc6c0eee-2ea3-4b2b-b4f7-4a26b5837d09\")>,\n",
       " <selenium.webdriver.remote.webelement.WebElement (session=\"92a4bf3e2e125106a1ba663bd92eb55c\", element=\"be631796-5052-49a8-a8f2-129d3b63cdd6\")>,\n",
       " <selenium.webdriver.remote.webelement.WebElement (session=\"92a4bf3e2e125106a1ba663bd92eb55c\", element=\"b9a415fe-aa4c-4b93-bd14-5d056c5c1060\")>,\n",
       " <selenium.webdriver.remote.webelement.WebElement (session=\"92a4bf3e2e125106a1ba663bd92eb55c\", element=\"f629caad-c447-4e7d-98ff-f9ef4be4e3a5\")>,\n",
       " <selenium.webdriver.remote.webelement.WebElement (session=\"92a4bf3e2e125106a1ba663bd92eb55c\", element=\"eb658b7b-f2ca-45df-b0ea-209ffeb701bd\")>,\n",
       " <selenium.webdriver.remote.webelement.WebElement (session=\"92a4bf3e2e125106a1ba663bd92eb55c\", element=\"68a09545-51bd-4d39-970d-63154f3171a1\")>,\n",
       " <selenium.webdriver.remote.webelement.WebElement (session=\"92a4bf3e2e125106a1ba663bd92eb55c\", element=\"72efa2cc-3200-475b-a76a-02d6976f4661\")>,\n",
       " <selenium.webdriver.remote.webelement.WebElement (session=\"92a4bf3e2e125106a1ba663bd92eb55c\", element=\"bece77a3-5949-4a25-ad80-614349df0169\")>]"
      ]
     },
     "execution_count": 36,
     "metadata": {},
     "output_type": "execute_result"
    }
   ],
   "source": [
    "company_tag=driver.find_elements_by_xpath('//a[@class=\"subTitle ellipsis fleft\"]')\n",
    "company_tag"
   ]
  },
  {
   "cell_type": "code",
   "execution_count": 37,
   "id": "22e60fd6",
   "metadata": {},
   "outputs": [
    {
     "data": {
      "text/plain": [
       "['Schneider Electric',\n",
       " \"Moody's\",\n",
       " 'WEIWO Communication Pvt. Ltd.',\n",
       " 'AugmatrixGo',\n",
       " \"Moody's\",\n",
       " 'Spectraforce Technologies',\n",
       " 'Flipkart',\n",
       " 'Flipkart',\n",
       " 'Flipkart',\n",
       " 'Tata Consultancy Services Ltd.']"
      ]
     },
     "execution_count": 37,
     "metadata": {},
     "output_type": "execute_result"
    }
   ],
   "source": [
    "company_names=[]\n",
    "for i in company_tag:\n",
    "    company_names.append(i.text)\n",
    "company_names=company_names[:10]\n",
    "company_names"
   ]
  },
  {
   "cell_type": "code",
   "execution_count": 39,
   "id": "b5b1a57f",
   "metadata": {},
   "outputs": [
    {
     "data": {
      "text/plain": [
       "[<selenium.webdriver.remote.webelement.WebElement (session=\"92a4bf3e2e125106a1ba663bd92eb55c\", element=\"45d1b99c-775a-4270-a3c5-a78cad122447\")>,\n",
       " <selenium.webdriver.remote.webelement.WebElement (session=\"92a4bf3e2e125106a1ba663bd92eb55c\", element=\"1381986b-c6af-4c75-ae7b-9a7c7847668d\")>,\n",
       " <selenium.webdriver.remote.webelement.WebElement (session=\"92a4bf3e2e125106a1ba663bd92eb55c\", element=\"67a759b6-b880-4777-b438-cf08b82389df\")>,\n",
       " <selenium.webdriver.remote.webelement.WebElement (session=\"92a4bf3e2e125106a1ba663bd92eb55c\", element=\"ab45058a-a361-45f8-b5e6-428c27cf40f6\")>,\n",
       " <selenium.webdriver.remote.webelement.WebElement (session=\"92a4bf3e2e125106a1ba663bd92eb55c\", element=\"9ed51cda-1e75-4dd4-833e-8df7b241ef9a\")>,\n",
       " <selenium.webdriver.remote.webelement.WebElement (session=\"92a4bf3e2e125106a1ba663bd92eb55c\", element=\"83dfb782-9529-42ab-b5b5-0b63eebbb59c\")>,\n",
       " <selenium.webdriver.remote.webelement.WebElement (session=\"92a4bf3e2e125106a1ba663bd92eb55c\", element=\"dfc9f8fc-1a93-4d34-af92-1dc4e37cdd0c\")>,\n",
       " <selenium.webdriver.remote.webelement.WebElement (session=\"92a4bf3e2e125106a1ba663bd92eb55c\", element=\"1fe02946-aa90-4ff3-b0b9-0039fc1b6739\")>,\n",
       " <selenium.webdriver.remote.webelement.WebElement (session=\"92a4bf3e2e125106a1ba663bd92eb55c\", element=\"1b3f6d36-89ef-4b3d-b948-f9ed97954420\")>,\n",
       " <selenium.webdriver.remote.webelement.WebElement (session=\"92a4bf3e2e125106a1ba663bd92eb55c\", element=\"7a72ee17-13b2-438b-b822-f755cb6b7102\")>,\n",
       " <selenium.webdriver.remote.webelement.WebElement (session=\"92a4bf3e2e125106a1ba663bd92eb55c\", element=\"fe096f84-09c0-4c00-809f-b62e33cbedcf\")>,\n",
       " <selenium.webdriver.remote.webelement.WebElement (session=\"92a4bf3e2e125106a1ba663bd92eb55c\", element=\"2dd40182-1315-4bba-86d7-285ce6135405\")>,\n",
       " <selenium.webdriver.remote.webelement.WebElement (session=\"92a4bf3e2e125106a1ba663bd92eb55c\", element=\"8ffd93da-5512-41c6-8a75-35daf421ca9a\")>,\n",
       " <selenium.webdriver.remote.webelement.WebElement (session=\"92a4bf3e2e125106a1ba663bd92eb55c\", element=\"e95fe618-547d-4d62-b67c-baf7adcf1a96\")>,\n",
       " <selenium.webdriver.remote.webelement.WebElement (session=\"92a4bf3e2e125106a1ba663bd92eb55c\", element=\"c8541f05-956a-4bf2-93c2-d4cf51d5e4aa\")>,\n",
       " <selenium.webdriver.remote.webelement.WebElement (session=\"92a4bf3e2e125106a1ba663bd92eb55c\", element=\"6d556e96-3f87-45be-968a-c4aa611b8a55\")>,\n",
       " <selenium.webdriver.remote.webelement.WebElement (session=\"92a4bf3e2e125106a1ba663bd92eb55c\", element=\"38fe0d3c-b891-40f4-91de-d3bc4d07f350\")>,\n",
       " <selenium.webdriver.remote.webelement.WebElement (session=\"92a4bf3e2e125106a1ba663bd92eb55c\", element=\"f230e694-1227-4beb-afbe-950f181f83a4\")>,\n",
       " <selenium.webdriver.remote.webelement.WebElement (session=\"92a4bf3e2e125106a1ba663bd92eb55c\", element=\"b6ab57ca-e7e9-4942-acac-c0420d995e3a\")>,\n",
       " <selenium.webdriver.remote.webelement.WebElement (session=\"92a4bf3e2e125106a1ba663bd92eb55c\", element=\"ed992ad6-d18f-447b-87ab-12841161a461\")>]"
      ]
     },
     "execution_count": 39,
     "metadata": {},
     "output_type": "execute_result"
    }
   ],
   "source": [
    "# Scrap experience required\n",
    "experience_tag=driver.find_elements_by_xpath('//li[@class=\"fleft grey-text br2 placeHolderLi experience\"]')\n",
    "experience_tag"
   ]
  },
  {
   "cell_type": "code",
   "execution_count": 40,
   "id": "20c885f3",
   "metadata": {},
   "outputs": [
    {
     "data": {
      "text/plain": [
       "['0-2 Yrs',\n",
       " '0-2 Yrs',\n",
       " '2-7 Yrs',\n",
       " '2-5 Yrs',\n",
       " '0-2 Yrs',\n",
       " '5-10 Yrs',\n",
       " '2-3 Yrs',\n",
       " '3-7 Yrs',\n",
       " '5-7 Yrs',\n",
       " '4-9 Yrs']"
      ]
     },
     "execution_count": 40,
     "metadata": {},
     "output_type": "execute_result"
    }
   ],
   "source": [
    "experience=[]\n",
    "for i in experience_tag:\n",
    "    experience.append(i.text)\n",
    "experience=experience[:10]\n",
    "experience"
   ]
  },
  {
   "cell_type": "code",
   "execution_count": 42,
   "id": "a0132d58",
   "metadata": {},
   "outputs": [
    {
     "data": {
      "text/html": [
       "<div>\n",
       "<style scoped>\n",
       "    .dataframe tbody tr th:only-of-type {\n",
       "        vertical-align: middle;\n",
       "    }\n",
       "\n",
       "    .dataframe tbody tr th {\n",
       "        vertical-align: top;\n",
       "    }\n",
       "\n",
       "    .dataframe thead th {\n",
       "        text-align: right;\n",
       "    }\n",
       "</style>\n",
       "<table border=\"1\" class=\"dataframe\">\n",
       "  <thead>\n",
       "    <tr style=\"text-align: right;\">\n",
       "      <th></th>\n",
       "      <th>Job Title</th>\n",
       "      <th>Company</th>\n",
       "      <th>Location</th>\n",
       "      <th>Experience Required</th>\n",
       "    </tr>\n",
       "  </thead>\n",
       "  <tbody>\n",
       "    <tr>\n",
       "      <th>0</th>\n",
       "      <td>Senior Data Analyst</td>\n",
       "      <td>Schneider Electric</td>\n",
       "      <td>Bangalore/Bengaluru</td>\n",
       "      <td>0-2 Yrs</td>\n",
       "    </tr>\n",
       "    <tr>\n",
       "      <th>1</th>\n",
       "      <td>Financial Data Analyst</td>\n",
       "      <td>Moody's</td>\n",
       "      <td>Bangalore/Bengaluru</td>\n",
       "      <td>0-2 Yrs</td>\n",
       "    </tr>\n",
       "    <tr>\n",
       "      <th>2</th>\n",
       "      <td>Data Analyst</td>\n",
       "      <td>WEIWO Communication Pvt. Ltd.</td>\n",
       "      <td>Bangalore/Bengaluru(Ulsoor)</td>\n",
       "      <td>2-7 Yrs</td>\n",
       "    </tr>\n",
       "    <tr>\n",
       "      <th>3</th>\n",
       "      <td>Business Data Analyst - Database Design/Mining</td>\n",
       "      <td>AugmatrixGo</td>\n",
       "      <td>Bangalore/Bengaluru</td>\n",
       "      <td>2-5 Yrs</td>\n",
       "    </tr>\n",
       "    <tr>\n",
       "      <th>4</th>\n",
       "      <td>Financial Data Analyst</td>\n",
       "      <td>Moody's</td>\n",
       "      <td>Bangalore/Bengaluru</td>\n",
       "      <td>0-2 Yrs</td>\n",
       "    </tr>\n",
       "    <tr>\n",
       "      <th>5</th>\n",
       "      <td>Senior Data Analyst</td>\n",
       "      <td>Spectraforce Technologies</td>\n",
       "      <td>Bangalore/Bengaluru</td>\n",
       "      <td>5-10 Yrs</td>\n",
       "    </tr>\n",
       "    <tr>\n",
       "      <th>6</th>\n",
       "      <td>Senior Data Analyst</td>\n",
       "      <td>Flipkart</td>\n",
       "      <td>Bengaluru/Bangalore</td>\n",
       "      <td>2-3 Yrs</td>\n",
       "    </tr>\n",
       "    <tr>\n",
       "      <th>7</th>\n",
       "      <td>Senior Data Analyst II</td>\n",
       "      <td>Flipkart</td>\n",
       "      <td>Bengaluru/Bangalore</td>\n",
       "      <td>3-7 Yrs</td>\n",
       "    </tr>\n",
       "    <tr>\n",
       "      <th>8</th>\n",
       "      <td>Senior Data Analyst II</td>\n",
       "      <td>Flipkart</td>\n",
       "      <td>Bangalore/Bengaluru</td>\n",
       "      <td>5-7 Yrs</td>\n",
       "    </tr>\n",
       "    <tr>\n",
       "      <th>9</th>\n",
       "      <td>Tcs Hiring For Data Analyst / Engineers</td>\n",
       "      <td>Tata Consultancy Services Ltd.</td>\n",
       "      <td>Pune, Bangalore/Bengaluru, Delhi / NCR</td>\n",
       "      <td>4-9 Yrs</td>\n",
       "    </tr>\n",
       "  </tbody>\n",
       "</table>\n",
       "</div>"
      ],
      "text/plain": [
       "                                        Job Title  \\\n",
       "0                             Senior Data Analyst   \n",
       "1                          Financial Data Analyst   \n",
       "2                                    Data Analyst   \n",
       "3  Business Data Analyst - Database Design/Mining   \n",
       "4                          Financial Data Analyst   \n",
       "5                             Senior Data Analyst   \n",
       "6                             Senior Data Analyst   \n",
       "7                          Senior Data Analyst II   \n",
       "8                          Senior Data Analyst II   \n",
       "9         Tcs Hiring For Data Analyst / Engineers   \n",
       "\n",
       "                          Company                                Location  \\\n",
       "0              Schneider Electric                     Bangalore/Bengaluru   \n",
       "1                         Moody's                     Bangalore/Bengaluru   \n",
       "2   WEIWO Communication Pvt. Ltd.             Bangalore/Bengaluru(Ulsoor)   \n",
       "3                     AugmatrixGo                     Bangalore/Bengaluru   \n",
       "4                         Moody's                     Bangalore/Bengaluru   \n",
       "5       Spectraforce Technologies                     Bangalore/Bengaluru   \n",
       "6                        Flipkart                     Bengaluru/Bangalore   \n",
       "7                        Flipkart                     Bengaluru/Bangalore   \n",
       "8                        Flipkart                     Bangalore/Bengaluru   \n",
       "9  Tata Consultancy Services Ltd.  Pune, Bangalore/Bengaluru, Delhi / NCR   \n",
       "\n",
       "  Experience Required  \n",
       "0             0-2 Yrs  \n",
       "1             0-2 Yrs  \n",
       "2             2-7 Yrs  \n",
       "3             2-5 Yrs  \n",
       "4             0-2 Yrs  \n",
       "5            5-10 Yrs  \n",
       "6             2-3 Yrs  \n",
       "7             3-7 Yrs  \n",
       "8             5-7 Yrs  \n",
       "9             4-9 Yrs  "
      ]
     },
     "execution_count": 42,
     "metadata": {},
     "output_type": "execute_result"
    }
   ],
   "source": [
    "# create dataframe\n",
    "df=pd.DataFrame({\"Job Title\":titles,\"Company\":company_names,\"Location\":location,\"Experience Required\":experience})\n",
    "df"
   ]
  },
  {
   "cell_type": "code",
   "execution_count": null,
   "id": "ebe83d98",
   "metadata": {},
   "outputs": [],
   "source": []
  },
  {
   "cell_type": "markdown",
   "id": "623c03d1",
   "metadata": {},
   "source": [
    "Q2: Write a python program to scrape data for “Data Scientist” Job position in “Bangalore” location. You have to scrape the job-title, job-location, company_name. You have to scrape first 10 jobs data. This task will be done in following steps:\n",
    "\n",
    "First get the webpage https://www.naukri.com/\n",
    "Enter “Data Scientist” in “Skill, Designations, Companies” field and enter “Bangalore” in “enter the location” field.\n",
    "Then click the search button.\n",
    "Then scrape the data for the first 10 jobs results you get.\n",
    "Finally create a dataframe of the scraped data. Note: All of the above steps have to be done in code. No step is to be done manually."
   ]
  },
  {
   "cell_type": "code",
   "execution_count": 1,
   "id": "388ea78b",
   "metadata": {},
   "outputs": [],
   "source": [
    "# import required liabraries\n",
    "import selenium\n",
    "from selenium import webdriver\n",
    "import pandas as pd\n",
    "import warnings\n",
    "warnings.filterwarnings(\"ignore\")"
   ]
  },
  {
   "cell_type": "code",
   "execution_count": 2,
   "id": "25643e84",
   "metadata": {},
   "outputs": [],
   "source": [
    "# coonection to webdriver\n",
    "driver=webdriver.Chrome(\"D:\\Internship Problems\\selenium\\chromedriver_win32\\chromedriver.exe\")"
   ]
  },
  {
   "cell_type": "code",
   "execution_count": null,
   "id": "a3c45ffb",
   "metadata": {},
   "outputs": [],
   "source": [
    "# connect to url\n",
    "url=\"https://www.naukri.com/\"\n",
    "driver.get(url)"
   ]
  },
  {
   "cell_type": "code",
   "execution_count": null,
   "id": "9485d976",
   "metadata": {},
   "outputs": [],
   "source": [
    "# finding the webelement search job bar using id\n",
    "search_job=driver.find_element_by_xpath(\"/html/body/div/div[2]/div[3]/div/div/div[1]/div/div/div/input\")\n",
    "search_job"
   ]
  },
  {
   "cell_type": "code",
   "execution_count": null,
   "id": "44e5cf38",
   "metadata": {},
   "outputs": [],
   "source": [
    "# write on search bar\n",
    "search_job.send_keys(\"Data Scientist\")"
   ]
  },
  {
   "cell_type": "code",
   "execution_count": null,
   "id": "fd853a27",
   "metadata": {},
   "outputs": [],
   "source": [
    "# finding the webelement search bar for location\n",
    "location=driver.find_element_by_xpath(\"/html/body/div/div[2]/div[3]/div/div/div[3]/div/div/div/input\")\n",
    "location"
   ]
  },
  {
   "cell_type": "code",
   "execution_count": null,
   "id": "96fbce13",
   "metadata": {},
   "outputs": [],
   "source": [
    "# write in location search bar\n",
    "location.send_keys(\"Bengalore\")"
   ]
  },
  {
   "cell_type": "code",
   "execution_count": null,
   "id": "7db157ad",
   "metadata": {},
   "outputs": [],
   "source": [
    "# clicking on search button\n",
    "search_btn=driver.find_element_by_xpath(\"/html/body/div/div[2]/div[3]/div/div/div[6]\")\n",
    "search_btn"
   ]
  },
  {
   "cell_type": "code",
   "execution_count": null,
   "id": "c461482f",
   "metadata": {},
   "outputs": [],
   "source": [
    "search_btn.click()"
   ]
  },
  {
   "cell_type": "code",
   "execution_count": null,
   "id": "ee4670ed",
   "metadata": {},
   "outputs": [],
   "source": [
    "# extracting job title\n",
    "title_tag=driver.find_elements_by_xpath('//a[@class=\"title fw500 ellipsis\"]')\n",
    "title_tag"
   ]
  },
  {
   "cell_type": "code",
   "execution_count": null,
   "id": "b02243b7",
   "metadata": {},
   "outputs": [],
   "source": [
    "# find the text of job title\n",
    "titles=[]\n",
    "for i in title_tag:\n",
    "    titles.append(i.text)\n",
    "titles=titles[:10]\n",
    "titles"
   ]
  },
  {
   "cell_type": "code",
   "execution_count": null,
   "id": "91e507c6",
   "metadata": {},
   "outputs": [],
   "source": [
    "# scrapping the location\n",
    "location_tag=driver.find_elements_by_xpath('//li[@class=\"fleft grey-text br2 placeHolderLi location\"]')\n",
    "location_tag"
   ]
  },
  {
   "cell_type": "code",
   "execution_count": null,
   "id": "53252f25",
   "metadata": {},
   "outputs": [],
   "source": [
    "# scrapping all locations\n",
    "location=[]\n",
    "for i in location_tag:\n",
    "    location.append(i.text)\n",
    "location=location[:10]\n",
    "location"
   ]
  },
  {
   "cell_type": "code",
   "execution_count": null,
   "id": "ae38856c",
   "metadata": {},
   "outputs": [],
   "source": [
    "# scrapping company name\n",
    "company_tag=driver.find_elements_by_xpath('//a[@class=\"subTitle ellipsis fleft\"]')\n",
    "company_tag"
   ]
  },
  {
   "cell_type": "code",
   "execution_count": null,
   "id": "b0a826a4",
   "metadata": {},
   "outputs": [],
   "source": [
    "company_name=[]\n",
    "for i in company_tag:\n",
    "    company_name.append(i.text)\n",
    "company_name=company_name[:10]\n",
    "company_name"
   ]
  },
  {
   "cell_type": "code",
   "execution_count": null,
   "id": "113508b0",
   "metadata": {},
   "outputs": [],
   "source": [
    "df=pd.DataFrame({\"Job Title\":titles,\"Company Name\": company_name,\"Location\":location})\n",
    "df"
   ]
  },
  {
   "cell_type": "code",
   "execution_count": null,
   "id": "76e0e679",
   "metadata": {},
   "outputs": [],
   "source": []
  },
  {
   "cell_type": "markdown",
   "id": "76657b1c",
   "metadata": {},
   "source": [
    "Q3: In this question you have to scrape data using the filters available on the webpage as shown below: You have to use the location and salary filter. You have to scrape data for “Data Scientist” designation for first 10 job results. You have to scrape the job-title, job-location, company name, experience required. The location filter to be used is “Delhi/NCR”. The salary filter to be used is “3-6” lakhs The task will be done as shown in the below steps:\n",
    "\n",
    "first get the webpage https://www.naukri.com/\n",
    "Enter “Data Scientist” in “Skill, Designations, and Companies” field.\n",
    "Then click the search button.\n",
    "Then apply the location filter and salary filter by checking the respective boxes\n",
    "Then scrape the data for the first 10 jobs results you get.\n",
    "Finally create a dataframe of the scraped data. Note: All of the above steps have to be done in code. No step is to be done manually."
   ]
  },
  {
   "cell_type": "markdown",
   "id": "eee50adc",
   "metadata": {},
   "source": [
    "## import necessary liabraries"
   ]
  },
  {
   "cell_type": "code",
   "execution_count": null,
   "id": "8c2a9021",
   "metadata": {},
   "outputs": [],
   "source": [
    "import selenium\n",
    "from selenium import webdriver\n",
    "import numpy as np\n",
    "import pandas as pd \n",
    "import warnings\n",
    "warnings.filterwarnings ('ignore')"
   ]
  },
  {
   "cell_type": "markdown",
   "id": "b1e8f711",
   "metadata": {},
   "source": [
    "## Connection to the webdriver"
   ]
  },
  {
   "cell_type": "code",
   "execution_count": null,
   "id": "5ee139b1",
   "metadata": {},
   "outputs": [],
   "source": [
    "driver=webdriver.Chrome(\"D:\\Internship Problems\\selenium\\chromedriver_win32\\chromedriver.exe\")"
   ]
  },
  {
   "cell_type": "markdown",
   "id": "645b27a9",
   "metadata": {},
   "source": [
    "## Connection to url"
   ]
  },
  {
   "cell_type": "code",
   "execution_count": null,
   "id": "f97794f6",
   "metadata": {},
   "outputs": [],
   "source": [
    "url='https://www.naukri.com/'\n",
    "driver.get(url)"
   ]
  },
  {
   "cell_type": "code",
   "execution_count": null,
   "id": "366e0ca3",
   "metadata": {},
   "outputs": [],
   "source": [
    "# find element using xpath for search job id\n",
    "search_job=driver.find_element_by_xpath('/html/body/div/div[2]/div[3]/div/div/div[1]/div/div/div/input')"
   ]
  },
  {
   "cell_type": "code",
   "execution_count": null,
   "id": "d7304af7",
   "metadata": {},
   "outputs": [],
   "source": [
    "# write in search job field\n",
    "search_job.send_keys(\"Data Scientist\")"
   ]
  },
  {
   "cell_type": "code",
   "execution_count": null,
   "id": "a92e1bfd",
   "metadata": {},
   "outputs": [],
   "source": [
    "# find elemnt for location field using xpath\n",
    "location=driver.find_element_by_xpath('/html/body/div/div[2]/div[3]/div/div/div[3]/div/div/div/input')"
   ]
  },
  {
   "cell_type": "code",
   "execution_count": null,
   "id": "cac22507",
   "metadata": {},
   "outputs": [],
   "source": [
    "# writing in location field\n",
    "location.send_keys('Delhi/NCR')"
   ]
  },
  {
   "cell_type": "code",
   "execution_count": null,
   "id": "c5b3c459",
   "metadata": {},
   "outputs": [],
   "source": [
    "# clicking on search button\n",
    "search=driver.find_element_by_xpath('/html/body/div/div[2]/div[3]/div/div/div[6]')"
   ]
  },
  {
   "cell_type": "code",
   "execution_count": null,
   "id": "58fe93cc",
   "metadata": {},
   "outputs": [],
   "source": [
    "# clicking on button\n",
    "search.click()"
   ]
  },
  {
   "cell_type": "code",
   "execution_count": null,
   "id": "ec592922",
   "metadata": {},
   "outputs": [],
   "source": [
    "# check salary check filter\n",
    "salry_check_filter=driver.find_element_by_xpath('/html/body/div[1]/div[3]/div[2]/section[1]/div[2]/div[4]/div[2]/div[2]/label/i')"
   ]
  },
  {
   "cell_type": "code",
   "execution_count": null,
   "id": "827600f1",
   "metadata": {},
   "outputs": [],
   "source": [
    "# click on salary check filter\n",
    "salry_check_filter.click()"
   ]
  },
  {
   "cell_type": "code",
   "execution_count": null,
   "id": "4d2f57a9",
   "metadata": {},
   "outputs": [],
   "source": [
    "#scrapping the job title by xpath\n",
    "job_title=driver.find_elements_by_xpath('//a[@class=\"title fw500 ellipsis\"]')"
   ]
  },
  {
   "cell_type": "code",
   "execution_count": null,
   "id": "12106a75",
   "metadata": {},
   "outputs": [],
   "source": [
    "titles=[]\n",
    "for i in job_title:\n",
    "    titles.append(i.text)\n",
    "titles=titles[:10]"
   ]
  },
  {
   "cell_type": "code",
   "execution_count": null,
   "id": "bc89c343",
   "metadata": {},
   "outputs": [],
   "source": [
    "# scrapping for location using xpath\n",
    "location_name=driver.find_elements_by_xpath('//li[@class=\"fleft grey-text br2 placeHolderLi location\"]')"
   ]
  },
  {
   "cell_type": "code",
   "execution_count": null,
   "id": "cc8e2926",
   "metadata": {},
   "outputs": [],
   "source": [
    "locations=[]\n",
    "for i in location_name:\n",
    "    locations.append(i.text)\n",
    "#locations=locations[2::3]\n",
    "locations=locations[:10]"
   ]
  },
  {
   "cell_type": "code",
   "execution_count": null,
   "id": "668f2b77",
   "metadata": {},
   "outputs": [],
   "source": [
    "# company by xpath\n",
    "company_name=driver.find_elements_by_xpath('//a[@class=\"subTitle ellipsis fleft\"]')"
   ]
  },
  {
   "cell_type": "code",
   "execution_count": null,
   "id": "8ef13bfc",
   "metadata": {},
   "outputs": [],
   "source": [
    "company=[]\n",
    "for i in company_name:\n",
    "    company.append(i.text)\n",
    "company=company[:10]"
   ]
  },
  {
   "cell_type": "code",
   "execution_count": null,
   "id": "26623af0",
   "metadata": {},
   "outputs": [],
   "source": [
    "# scrap experience required\n",
    "experience=driver.find_elements_by_xpath('//li[@class=\"fleft grey-text br2 placeHolderLi experience\"]')"
   ]
  },
  {
   "cell_type": "code",
   "execution_count": null,
   "id": "7fd0505e",
   "metadata": {},
   "outputs": [],
   "source": [
    "experience_=[]\n",
    "for i in experience:\n",
    "    experience_.append(i.text)\n",
    "experience_=experience_[:10]"
   ]
  },
  {
   "cell_type": "code",
   "execution_count": null,
   "id": "9306ea69",
   "metadata": {},
   "outputs": [],
   "source": [
    "## create Dataframe\n",
    "data=pd.DataFrame({\"Job Title\":titles,\"Company Name\":company,'Experience Required':experience_,\"Location\":locations})\n",
    "data"
   ]
  },
  {
   "cell_type": "code",
   "execution_count": null,
   "id": "349bbcba",
   "metadata": {},
   "outputs": [],
   "source": []
  },
  {
   "cell_type": "markdown",
   "id": "bd67b49f",
   "metadata": {},
   "source": [
    "Q4: Scrape data of first 100 sunglasses listings on flipkart.com. You have to scrape four attributes:\n",
    "1. Brand\n",
    "2. Product Description\n",
    "3. Price\n",
    "To scrape the data you have to go through following steps:\n",
    "1. Go to Flipkart webpage by url : https://www.flipkart.com/\n",
    "2. Enter “sunglasses” in the search field where “search for products, brands andmore” is written and click the search icon\n",
    "3. After that you will reach to the page having a lot of sunglasses. From this pageyou can scrap the required data as usual.\n",
    "4. After scraping data from the first page, go to the “Next” Button at the bottom ofthe page , then click on it.\n",
    "5. Now scrape data from this page as usual\n",
    "6. Repeat this until you get data for 100 sunglasses.\n",
    "Note: That all of the above steps have to be done by coding only and not manually."
   ]
  },
  {
   "cell_type": "code",
   "execution_count": null,
   "id": "ef08c600",
   "metadata": {},
   "outputs": [],
   "source": [
    "# coonection to webdriver\n",
    "driver=webdriver.Chrome(\"D:\\Internship Problems\\selenium\\chromedriver_win32\\chromedriver.exe\")"
   ]
  },
  {
   "cell_type": "code",
   "execution_count": null,
   "id": "7f78ff59",
   "metadata": {},
   "outputs": [],
   "source": [
    "# connecting to url of site \n",
    "url=\"https://www.flipkart.com/\"\n",
    "driver.get(url)"
   ]
  },
  {
   "cell_type": "code",
   "execution_count": null,
   "id": "de01fa4d",
   "metadata": {},
   "outputs": [],
   "source": [
    "# finding the webelement search job bar using xpath\n",
    "search_job=driver.find_element_by_xpath(\"/html/body/div[1]/div/div[1]/div[1]/div[2]/div[2]/form/div/div/input\")\n",
    "search_job"
   ]
  },
  {
   "cell_type": "code",
   "execution_count": null,
   "id": "79b6d9e9",
   "metadata": {},
   "outputs": [],
   "source": [
    "# writing in search bar\n",
    "search_job.send_keys(\"sunglasses\")"
   ]
  },
  {
   "cell_type": "code",
   "execution_count": null,
   "id": "9488db8c",
   "metadata": {},
   "outputs": [],
   "source": [
    "# clicking on search bar using xpath\n",
    "search_icon=driver.find_element_by_xpath('//button[@class=\"L0Z3Pu\"]')\n",
    "search_icon"
   ]
  },
  {
   "cell_type": "code",
   "execution_count": null,
   "id": "7556b436",
   "metadata": {},
   "outputs": [],
   "source": [
    "# clicking the button\n",
    "search_icon.click()"
   ]
  },
  {
   "cell_type": "code",
   "execution_count": null,
   "id": "0c9fbe4d",
   "metadata": {},
   "outputs": [],
   "source": [
    "# scrapping the products name\n",
    "product_tag=driver.find_elements_by_xpath('//div[@class=\"_2WkVRV\"]')\n",
    "product_tag"
   ]
  },
  {
   "cell_type": "code",
   "execution_count": null,
   "id": "1261e191",
   "metadata": {},
   "outputs": [],
   "source": [
    "# scrapping the products names\n",
    "product_names=[]\n",
    "for i in product_tag:\n",
    "    product_names.append(i.text)\n",
    "len(product_names)"
   ]
  },
  {
   "cell_type": "code",
   "execution_count": null,
   "id": "0b544c32",
   "metadata": {},
   "outputs": [],
   "source": [
    "# scrapping the descr\n",
    "descr=driver.find_elements_by_xpath('//a[@class=\"IRpwTa\"]')\n",
    "descr"
   ]
  },
  {
   "cell_type": "code",
   "execution_count": null,
   "id": "0c48cd6f",
   "metadata": {},
   "outputs": [],
   "source": [
    "# scrapping the products descr\n",
    "descr_=[]\n",
    "for i in descr:\n",
    "    descr_.append(i.text)\n",
    "len(descr_)"
   ]
  },
  {
   "cell_type": "code",
   "execution_count": null,
   "id": "21fd1bcd",
   "metadata": {},
   "outputs": [],
   "source": [
    "# scrapping the products names tag by xpath\n",
    "price_tag=driver.find_elements_by_xpath('//div[@class=\"_30jeq3\"]')\n",
    "price_tag"
   ]
  },
  {
   "cell_type": "code",
   "execution_count": null,
   "id": "3e3a33b8",
   "metadata": {},
   "outputs": [],
   "source": [
    "# scrapping the product price \n",
    "price=[]\n",
    "for i in price_tag:\n",
    "    price.append(i.text)\n",
    "len(price)"
   ]
  },
  {
   "cell_type": "code",
   "execution_count": null,
   "id": "c56b502c",
   "metadata": {},
   "outputs": [],
   "source": [
    "#scrapping discount tag by xpath\n",
    "discount_tag_pg1=driver.find_elements_by_xpath('//div[@class=\"_3Ay6Sb\"]')\n",
    "discount_tag_pg1"
   ]
  },
  {
   "cell_type": "code",
   "execution_count": null,
   "id": "68704998",
   "metadata": {},
   "outputs": [],
   "source": [
    "discount_pg1=[]\n",
    "for i in discount_tag_pg1:\n",
    "    discount_pg1.append(i.text)\n",
    "len(discount_pg1)"
   ]
  },
  {
   "cell_type": "code",
   "execution_count": null,
   "id": "1a0f9e55",
   "metadata": {},
   "outputs": [],
   "source": [
    "# click on next button\n",
    "next_btn=driver.find_element_by_xpath(\"/html/body/div[1]/div/div[3]/div[1]/div[2]/div[12]/div/div/nav/a[11]/span\")\n",
    "next_btn"
   ]
  },
  {
   "cell_type": "code",
   "execution_count": null,
   "id": "01c7bf55",
   "metadata": {},
   "outputs": [],
   "source": [
    "next_btn.click()"
   ]
  },
  {
   "cell_type": "code",
   "execution_count": null,
   "id": "4d4bfc98",
   "metadata": {},
   "outputs": [],
   "source": [
    "product_tag2=driver.find_elements_by_xpath('//div[@class=\"_2WkVRV\"]')\n",
    "product_tag2"
   ]
  },
  {
   "cell_type": "code",
   "execution_count": null,
   "id": "f1a8f7a9",
   "metadata": {},
   "outputs": [],
   "source": [
    "product_name2=[]\n",
    "for i in product_tag2:\n",
    "    product_name2.append(i.text)\n",
    "product_name2"
   ]
  },
  {
   "cell_type": "code",
   "execution_count": null,
   "id": "ff911679",
   "metadata": {},
   "outputs": [],
   "source": [
    "# scrapping by xpath\n",
    "descr2=driver.find_elements_by_xpath('//a[@class=\"IRpwTa\"]')\n",
    "descr2"
   ]
  },
  {
   "cell_type": "code",
   "execution_count": null,
   "id": "a2f1e627",
   "metadata": {},
   "outputs": [],
   "source": [
    "descr2_=[]\n",
    "for i in descr2:\n",
    "    descr2_.append(i.text)\n",
    "len(descr2_)"
   ]
  },
  {
   "cell_type": "code",
   "execution_count": null,
   "id": "86da19c1",
   "metadata": {},
   "outputs": [],
   "source": [
    "price2=driver.find_elements_by_xpath('//div[@class=\"_30jeq3\"]')\n",
    "price2"
   ]
  },
  {
   "cell_type": "code",
   "execution_count": null,
   "id": "93cdaaea",
   "metadata": {},
   "outputs": [],
   "source": [
    "price2_=[]\n",
    "for i in price2:\n",
    "    price2_.append(i.text)\n",
    "len(price2_)"
   ]
  },
  {
   "cell_type": "code",
   "execution_count": null,
   "id": "c4618e7a",
   "metadata": {},
   "outputs": [],
   "source": [
    "dicount_tag_pg2=driver.find_elements_by_xpath('//div[@class=\"_3Ay6Sb\"]')\n",
    "dicount_tag_pg2"
   ]
  },
  {
   "cell_type": "code",
   "execution_count": null,
   "id": "c46191fc",
   "metadata": {},
   "outputs": [],
   "source": [
    "discount_pg2=[]\n",
    "for i in dicount_tag_pg2:\n",
    "    discount_pg2.append(i.text)\n",
    "len(discount_pg2)"
   ]
  },
  {
   "cell_type": "code",
   "execution_count": null,
   "id": "f4ab06ec",
   "metadata": {},
   "outputs": [],
   "source": [
    "# clicking on next button\n",
    "next_icn=driver.find_element_by_xpath('/html/body/div[1]/div/div[3]/div[1]/div[2]/div[12]/div/div/nav/a[12]')\n",
    "next_icn"
   ]
  },
  {
   "cell_type": "code",
   "execution_count": null,
   "id": "1eeca45b",
   "metadata": {},
   "outputs": [],
   "source": [
    "next_icn.click()"
   ]
  },
  {
   "cell_type": "code",
   "execution_count": null,
   "id": "c781aa69",
   "metadata": {},
   "outputs": [],
   "source": [
    "product3=driver.find_elements_by_xpath('//div[@class=\"_2WkVRV\"]')\n",
    "product3"
   ]
  },
  {
   "cell_type": "code",
   "execution_count": null,
   "id": "d31cf94d",
   "metadata": {},
   "outputs": [],
   "source": [
    "product3_=[]\n",
    "for i in product3:\n",
    "    product3_.append(i.text)\n",
    "product3_=product3_[:20]\n",
    "len(product3_)"
   ]
  },
  {
   "cell_type": "code",
   "execution_count": null,
   "id": "433fe784",
   "metadata": {},
   "outputs": [],
   "source": [
    "descr3=driver.find_elements_by_xpath('//a[@class=\"IRpwTa\"]')\n",
    "descr3"
   ]
  },
  {
   "cell_type": "code",
   "execution_count": null,
   "id": "d5f8f5a6",
   "metadata": {},
   "outputs": [],
   "source": [
    "# dscr on pg3\n",
    "descr3_=[]\n",
    "for i in descr3:\n",
    "    descr3_.append(i.text)\n",
    "descr3_=descr3_[:20]\n",
    "len(descr3_)"
   ]
  },
  {
   "cell_type": "code",
   "execution_count": null,
   "id": "7d334711",
   "metadata": {},
   "outputs": [],
   "source": [
    "# finding by search tag\n",
    "price3=driver.find_elements_by_xpath('//div[@class=\"_30jeq3\"]')\n",
    "price3"
   ]
  },
  {
   "cell_type": "code",
   "execution_count": null,
   "id": "d3199b33",
   "metadata": {},
   "outputs": [],
   "source": [
    "#discount on page3\n",
    "price3_=[]\n",
    "for i in price3:\n",
    "    price3_.append(i.text)\n",
    "price3_=price3_[:20]\n",
    "len(price3_)"
   ]
  },
  {
   "cell_type": "code",
   "execution_count": null,
   "id": "12d1cd8f",
   "metadata": {},
   "outputs": [],
   "source": [
    "# finding discount tag on page 3 by xpath\n",
    "discount_tag_pg3=driver.find_elements_by_xpath('//div[@class=\"_3Ay6Sb\"]')\n",
    "discount_tag_pg3"
   ]
  },
  {
   "cell_type": "code",
   "execution_count": null,
   "id": "723708a7",
   "metadata": {},
   "outputs": [],
   "source": [
    "# finding discount on page 3\n",
    "discount_pg3=[]\n",
    "for i in discount_tag_pg3:\n",
    "    discount_pg3.append(i.text)\n",
    "discount_pg3=discount_pg3[:20]\n",
    "len(discount_pg3)"
   ]
  },
  {
   "cell_type": "code",
   "execution_count": null,
   "id": "aad77098",
   "metadata": {},
   "outputs": [],
   "source": [
    "final_product_list=product_names+product_name2+product3_\n",
    "print(len(final_product_list))\n",
    "final_product_descr=descr_+descr2_+descr3_\n",
    "print(len(final_product_descr))\n",
    "final_product_price=price+price2_+price3_\n",
    "print(len(final_product_price))\n",
    "final_product_discount=discount_pg1+discount_pg2+discount_pg3\n",
    "print(len(final_product_discount))"
   ]
  },
  {
   "cell_type": "code",
   "execution_count": null,
   "id": "450feca9",
   "metadata": {},
   "outputs": [],
   "source": [
    "Flipkart_sunglass=pd.DataFrame({\"Sunglass Name\":final_product_list,\"Description\":final_product_descr,\"Price\":final_product_price,\"Discount\":final_product_discount})\n",
    "Flipkart_sunglass"
   ]
  },
  {
   "cell_type": "code",
   "execution_count": null,
   "id": "868b6e08",
   "metadata": {},
   "outputs": [],
   "source": []
  },
  {
   "cell_type": "markdown",
   "id": "b19ae0b3",
   "metadata": {},
   "source": [
    "Q5: Scrape 100 reviews data from flipkart.com for iphone11 phone. You have to go the link: https://www.flipkart.com/apple-iphone-11-black-64-gb-includes- earpods-power- adapter/p/itm0f37c2240b217?pid=MOBFKCTSVZAXUHGR&lid=LSTMOBFKC TSVZAXUHGREPBFGI&marketplace When you will open the above link you will reach to the below shown webpage . As shown in the above page you have to scrape the tick marked attributes.These are:\n",
    "\n",
    "Rating\n",
    "Review summary\n",
    "Full review\n",
    "You have to scrape this data for first 100 reviews. Note: All the steps required during scraping should be done through code only and not manually."
   ]
  },
  {
   "cell_type": "code",
   "execution_count": null,
   "id": "f81f0b44",
   "metadata": {},
   "outputs": [],
   "source": [
    "# coonection to webdriver\n",
    "driver=webdriver.Chrome(\"D:\\Internship Problems\\selenium\\chromedriver_win32\\chromedriver.exe\")"
   ]
  },
  {
   "cell_type": "code",
   "execution_count": null,
   "id": "5419783c",
   "metadata": {},
   "outputs": [],
   "source": [
    "# coonection to webdriver\n",
    "url=\"https://www.flipkart.com/apple-iphone-11-black-64-gb-includes-earpods-power-adapter/p/itm0f37c2240b217?pid=MOBFKCTSVZAXUHGR&lid=LSTMOBFKC\"\n",
    "driver.get(url)"
   ]
  },
  {
   "cell_type": "code",
   "execution_count": null,
   "id": "3609c45b",
   "metadata": {},
   "outputs": [],
   "source": [
    "# scrap rating using xpath\n",
    "rating_tag1=driver.find_elements_by_xpath('//div[@class=\"_3LWZlK _1BLPMq\"]')\n",
    "rating_tag1"
   ]
  },
  {
   "cell_type": "code",
   "execution_count": null,
   "id": "9f779845",
   "metadata": {},
   "outputs": [],
   "source": [
    "# scrap the ratings\n",
    "rating1=[]\n",
    "for i in rating_tag1:\n",
    "    rating1.append(i.text)\n",
    "rating1"
   ]
  },
  {
   "cell_type": "code",
   "execution_count": null,
   "id": "08787c92",
   "metadata": {},
   "outputs": [],
   "source": [
    "# scrapping the review sumary by xpath\n",
    "review_sum_tag1=driver.find_elements_by_xpath('//p[@class=\"_2-N8zT\"]')\n",
    "review_sum_tag1"
   ]
  },
  {
   "cell_type": "code",
   "execution_count": null,
   "id": "49d55afb",
   "metadata": {},
   "outputs": [],
   "source": [
    "# scrap the review sumary\n",
    "review_sum1=[]\n",
    "for i in review_sum_tag1:\n",
    "    review_sum1.append(i.text)\n",
    "review_sum1"
   ]
  },
  {
   "cell_type": "code",
   "execution_count": null,
   "id": "361a9f1a",
   "metadata": {},
   "outputs": [],
   "source": [
    "# scrap the full review\n",
    "full_review_tag1=driver.find_elements_by_xpath('//div[@class=\"t-ZTKy\"]')\n",
    "full_review_tag1"
   ]
  },
  {
   "cell_type": "code",
   "execution_count": null,
   "id": "1f0632ad",
   "metadata": {},
   "outputs": [],
   "source": [
    "# scrapp full review\n",
    "full_review1=[]\n",
    "for i in full_review_tag1:\n",
    "    full_review1.append(i.text)\n",
    "full_review1"
   ]
  },
  {
   "cell_type": "code",
   "execution_count": null,
   "id": "dc919d4e",
   "metadata": {},
   "outputs": [],
   "source": [
    "# click on next button\n",
    "next_btn=driver.find_element_by_xpath('//a[@class=\"_1LKTO3\"]')\n",
    "next_btn\n",
    "next_btn.click()"
   ]
  },
  {
   "cell_type": "code",
   "execution_count": null,
   "id": "df47d270",
   "metadata": {},
   "outputs": [],
   "source": [
    "#scrappg review on 2nd page\n",
    "rating_tag2=driver.find_elements_by_xpath('//div[@class=\"_3LWZlK _1BLPMq\"]')\n",
    "rating_tag2"
   ]
  },
  {
   "cell_type": "code",
   "execution_count": null,
   "id": "efc7ef7e",
   "metadata": {},
   "outputs": [],
   "source": [
    "# scrap the ratings\n",
    "rating2=[]\n",
    "for i in rating_tag2:\n",
    "    rating2.append(i.text)\n",
    "rating2"
   ]
  },
  {
   "cell_type": "code",
   "execution_count": null,
   "id": "381eece2",
   "metadata": {},
   "outputs": [],
   "source": [
    "# scrapping the review sumary by xpath\n",
    "review_sum_tag2=driver.find_elements_by_xpath('//p[@class=\"_2-N8zT\"]')\n",
    "review_sum_tag2"
   ]
  },
  {
   "cell_type": "code",
   "execution_count": null,
   "id": "b5cb0665",
   "metadata": {},
   "outputs": [],
   "source": [
    "# scrap the review sumary\n",
    "review_sum2=[]\n",
    "for i in review_sum_tag2:\n",
    "    review_sum2.append(i.text)\n",
    "review_sum2"
   ]
  },
  {
   "cell_type": "code",
   "execution_count": null,
   "id": "6363d62a",
   "metadata": {},
   "outputs": [],
   "source": [
    "# scrap the full review\n",
    "full_review_tag2=driver.find_elements_by_xpath('//div[@class=\"t-ZTKy\"]')\n",
    "full_review_tag2"
   ]
  },
  {
   "cell_type": "code",
   "execution_count": null,
   "id": "95baf551",
   "metadata": {},
   "outputs": [],
   "source": [
    "# scrapp full review\n",
    "full_review2=[]\n",
    "for i in full_review_tag2:\n",
    "    full_review2.append(i.text)\n",
    "full_review2"
   ]
  },
  {
   "cell_type": "code",
   "execution_count": null,
   "id": "9c008d1a",
   "metadata": {},
   "outputs": [],
   "source": [
    "# click on next button\n",
    "next_btn=driver.find_element_by_xpath('/html/body/div[1]/div/div[3]/div/div/div[2]/div[13]/div/div/nav/a[12]')\n",
    "next_btn\n",
    "next_btn.click()"
   ]
  },
  {
   "cell_type": "code",
   "execution_count": null,
   "id": "62c76c65",
   "metadata": {},
   "outputs": [],
   "source": [
    "#scrappg review on 2nd page\n",
    "rating_tag3=driver.find_elements_by_xpath('//div[@class=\"_3LWZlK _1BLPMq\"]')\n",
    "rating_tag3\n",
    "# scrap the ratings text\n",
    "rating3=[]\n",
    "for i in rating_tag3:\n",
    "    rating3.append(i.text)\n",
    "rating3"
   ]
  },
  {
   "cell_type": "code",
   "execution_count": null,
   "id": "4163428c",
   "metadata": {},
   "outputs": [],
   "source": [
    "# scrapping the review sumary by xpath\n",
    "review_sum_tag3=driver.find_elements_by_xpath('//p[@class=\"_2-N8zT\"]')\n",
    "review_sum_tag3\n",
    "# scrap the review sumary text\n",
    "review_sum3=[]\n",
    "for i in review_sum_tag3:\n",
    "    review_sum3.append(i.text)\n",
    "review_sum3"
   ]
  },
  {
   "cell_type": "code",
   "execution_count": null,
   "id": "1c9a2dd1",
   "metadata": {},
   "outputs": [],
   "source": [
    "# scrap the full review\n",
    "full_review_tag3=driver.find_elements_by_xpath('//div[@class=\"t-ZTKy\"]')\n",
    "full_review_tag3\n",
    "# scrapp full review tag\n",
    "full_review3=[]\n",
    "for i in full_review_tag3:\n",
    "    full_review3.append(i.text)\n",
    "full_review3"
   ]
  },
  {
   "cell_type": "code",
   "execution_count": null,
   "id": "d4b33b56",
   "metadata": {},
   "outputs": [],
   "source": [
    "# click on next button\n",
    "next_btn=driver.find_element_by_xpath('/html/body/div[1]/div/div[3]/div/div/div[2]/div[13]/div/div/nav/a[12]')\n",
    "next_btn\n",
    "next_btn.click()"
   ]
  },
  {
   "cell_type": "code",
   "execution_count": null,
   "id": "d3867afd",
   "metadata": {},
   "outputs": [],
   "source": [
    "#scrappg review on 2nd page\n",
    "rating_tag4=driver.find_elements_by_xpath('//div[@class=\"_3LWZlK _1BLPMq\"]')\n",
    "rating_tag4\n",
    "# scrap the ratings text\n",
    "rating4=[]\n",
    "for i in rating_tag4:\n",
    "    rating4.append(i.text)\n",
    "rating4"
   ]
  },
  {
   "cell_type": "code",
   "execution_count": null,
   "id": "2bf91171",
   "metadata": {},
   "outputs": [],
   "source": [
    "# scrapping the review sumary by xpath\n",
    "review_sum_tag4=driver.find_elements_by_xpath('//p[@class=\"_2-N8zT\"]')\n",
    "review_sum_tag4\n",
    "# scrap the review sumary text\n",
    "review_sum4=[]\n",
    "for i in review_sum_tag4:\n",
    "    review_sum4.append(i.text)\n",
    "review_sum4"
   ]
  },
  {
   "cell_type": "code",
   "execution_count": null,
   "id": "807951c2",
   "metadata": {},
   "outputs": [],
   "source": [
    "# scrap the full review\n",
    "full_review_tag4=driver.find_elements_by_xpath('//div[@class=\"t-ZTKy\"]')\n",
    "full_review_tag4\n",
    "# scrapp full review tag\n",
    "full_review4=[]\n",
    "for i in full_review_tag4:\n",
    "    full_review4.append(i.text)\n",
    "full_review4"
   ]
  },
  {
   "cell_type": "code",
   "execution_count": null,
   "id": "f03e6f39",
   "metadata": {},
   "outputs": [],
   "source": [
    "# click on next button\n",
    "next_btn=driver.find_element_by_xpath('/html/body/div[1]/div/div[3]/div/div/div[2]/div[13]/div/div/nav/a[12]')\n",
    "next_btn\n",
    "next_btn.click()"
   ]
  },
  {
   "cell_type": "code",
   "execution_count": null,
   "id": "113c63de",
   "metadata": {},
   "outputs": [],
   "source": [
    "#scrappg review on 2nd page\n",
    "rating_tag5=driver.find_elements_by_xpath('//div[@class=\"_3LWZlK _1BLPMq\"]')\n",
    "rating_tag5\n",
    "# scrap the ratings text\n",
    "rating5=[]\n",
    "for i in rating_tag5:\n",
    "    rating5.append(i.text)\n",
    "rating5"
   ]
  },
  {
   "cell_type": "code",
   "execution_count": null,
   "id": "6d0d233b",
   "metadata": {},
   "outputs": [],
   "source": [
    "# scrapping the review sumary by xpath\n",
    "review_sum_tag5=driver.find_elements_by_xpath('//p[@class=\"_2-N8zT\"]')\n",
    "review_sum_tag5\n",
    "# scrap the review sumary text\n",
    "review_sum5=[]\n",
    "for i in review_sum_tag5:\n",
    "    review_sum5.append(i.text)\n",
    "review_sum5"
   ]
  },
  {
   "cell_type": "code",
   "execution_count": null,
   "id": "3523225b",
   "metadata": {},
   "outputs": [],
   "source": [
    "# scrap the full review\n",
    "full_review_tag5=driver.find_elements_by_xpath('//div[@class=\"t-ZTKy\"]')\n",
    "full_review_tag5\n",
    "# scrapp full review tag\n",
    "full_review5=[]\n",
    "for i in full_review_tag5:\n",
    "    full_review5.append(i.text)\n",
    "full_review5"
   ]
  },
  {
   "cell_type": "code",
   "execution_count": null,
   "id": "b1d826af",
   "metadata": {},
   "outputs": [],
   "source": [
    "# click on next button\n",
    "next_btn=driver.find_element_by_xpath('/html/body/div[1]/div/div[3]/div/div/div[2]/div[13]/div/div/nav/a[12]')\n",
    "next_btn\n",
    "next_btn.click()"
   ]
  },
  {
   "cell_type": "code",
   "execution_count": null,
   "id": "48fc1d44",
   "metadata": {},
   "outputs": [],
   "source": [
    "#scrappg review on 2nd page\n",
    "rating_tag6=driver.find_elements_by_xpath('//div[@class=\"_3LWZlK _1BLPMq\"]')\n",
    "rating_tag6\n",
    "# scrap the ratings text\n",
    "rating6=[]\n",
    "for i in rating_tag6:\n",
    "    rating6.append(i.text)\n",
    "rating6"
   ]
  },
  {
   "cell_type": "code",
   "execution_count": null,
   "id": "d60cd24a",
   "metadata": {},
   "outputs": [],
   "source": [
    "# scrapping the review sumary by xpath\n",
    "review_sum_tag6=driver.find_elements_by_xpath('//p[@class=\"_2-N8zT\"]')\n",
    "review_sum_tag6\n",
    "# scrap the review sumary text\n",
    "review_sum6=[]\n",
    "for i in review_sum_tag6:\n",
    "    review_sum6.append(i.text)\n",
    "review_sum6"
   ]
  },
  {
   "cell_type": "code",
   "execution_count": null,
   "id": "d70830d3",
   "metadata": {},
   "outputs": [],
   "source": [
    "# scrap the full review\n",
    "full_review_tag6=driver.find_elements_by_xpath('//div[@class=\"t-ZTKy\"]')\n",
    "full_review_tag6\n",
    "# scrapp full review tag\n",
    "full_review6=[]\n",
    "for i in full_review_tag6:\n",
    "    full_review6.append(i.text)\n",
    "full_review6"
   ]
  },
  {
   "cell_type": "code",
   "execution_count": null,
   "id": "5cc53ca1",
   "metadata": {},
   "outputs": [],
   "source": [
    "# click on next button\n",
    "next_btn=driver.find_element_by_xpath('/html/body/div[1]/div/div[3]/div/div/div[2]/div[13]/div/div/nav/a[12]')\n",
    "next_btn\n",
    "next_btn.click()"
   ]
  },
  {
   "cell_type": "code",
   "execution_count": null,
   "id": "85d02850",
   "metadata": {},
   "outputs": [],
   "source": [
    "#scrappg review on 2nd page\n",
    "rating_tag7=driver.find_elements_by_xpath('//div[@class=\"_3LWZlK _1BLPMq\"]')\n",
    "rating_tag7\n",
    "# scrap the ratings text\n",
    "rating7=[]\n",
    "for i in rating_tag7:\n",
    "    rating7.append(i.text)\n",
    "rating7\n",
    "\n",
    "# scrapping the review sumary by xpath\n",
    "review_sum_tag7=driver.find_elements_by_xpath('//p[@class=\"_2-N8zT\"]')\n",
    "review_sum_tag7\n",
    "# scrap the review sumary text\n",
    "review_sum7=[]\n",
    "for i in review_sum_tag7:\n",
    "    review_sum7.append(i.text)\n",
    "review_sum7\n",
    "\n",
    "# scrap the full review\n",
    "full_review_tag7=driver.find_elements_by_xpath('//div[@class=\"t-ZTKy\"]')\n",
    "full_review_tag7\n",
    "# scrapp full review tag\n",
    "full_review7=[]\n",
    "for i in full_review_tag7:\n",
    "    full_review7.append(i.text)\n",
    "full_review7"
   ]
  },
  {
   "cell_type": "code",
   "execution_count": null,
   "id": "19e6734d",
   "metadata": {},
   "outputs": [],
   "source": [
    "# click on next button\n",
    "next_btn=driver.find_element_by_xpath('/html/body/div[1]/div/div[3]/div/div/div[2]/div[13]/div/div/nav/a[12]')\n",
    "next_btn\n",
    "next_btn.click()"
   ]
  },
  {
   "cell_type": "code",
   "execution_count": null,
   "id": "38fa9423",
   "metadata": {},
   "outputs": [],
   "source": [
    "#scrappg review on 2nd page\n",
    "rating_tag8=driver.find_elements_by_xpath('//div[@class=\"_3LWZlK _1BLPMq\"]')\n",
    "rating_tag8\n",
    "# scrap the ratings text\n",
    "rating8=[]\n",
    "for i in rating_tag8:\n",
    "    rating8.append(i.text)\n",
    "rating8\n",
    "\n",
    "# scrapping the review sumary by xpath\n",
    "review_sum_tag8=driver.find_elements_by_xpath('//p[@class=\"_2-N8zT\"]')\n",
    "review_sum_tag8\n",
    "# scrap the review sumary text\n",
    "review_sum8=[]\n",
    "for i in review_sum_tag8:\n",
    "    review_sum8.append(i.text)\n",
    "review_sum8\n",
    "\n",
    "# scrap the full review\n",
    "full_review_tag8=driver.find_elements_by_xpath('//div[@class=\"t-ZTKy\"]')\n",
    "full_review_tag8\n",
    "# scrapp full review tag\n",
    "full_review8=[]\n",
    "for i in full_review_tag8:\n",
    "    full_review8.append(i.text)\n",
    "full_review8"
   ]
  },
  {
   "cell_type": "code",
   "execution_count": null,
   "id": "de4ad4d3",
   "metadata": {},
   "outputs": [],
   "source": [
    "# click on next button\n",
    "next_btn=driver.find_element_by_xpath('/html/body/div[1]/div/div[3]/div/div/div[2]/div[13]/div/div/nav/a[12]')\n",
    "next_btn\n",
    "next_btn.click()"
   ]
  },
  {
   "cell_type": "code",
   "execution_count": null,
   "id": "1d579692",
   "metadata": {},
   "outputs": [],
   "source": [
    "#scrappg review on 2nd page\n",
    "rating_tag9=driver.find_elements_by_xpath('//div[@class=\"_3LWZlK _1BLPMq\"]')\n",
    "rating_tag9\n",
    "# scrap the ratings text\n",
    "rating9=[]\n",
    "for i in rating_tag9:\n",
    "    rating9.append(i.text)\n",
    "rating8\n",
    "\n",
    "# scrapping the review sumary by xpath\n",
    "review_sum_tag9=driver.find_elements_by_xpath('//p[@class=\"_2-N8zT\"]')\n",
    "review_sum_tag9\n",
    "# scrap the review sumary text\n",
    "review_sum9=[]\n",
    "for i in review_sum_tag9:\n",
    "    review_sum9.append(i.text)\n",
    "review_sum9\n",
    "\n",
    "# scrap the full review\n",
    "full_review_tag9=driver.find_elements_by_xpath('//div[@class=\"t-ZTKy\"]')\n",
    "full_review_tag9\n",
    "# scrapp full review tag\n",
    "full_review9=[]\n",
    "for i in full_review_tag9:\n",
    "    full_review9.append(i.text)\n",
    "full_review9"
   ]
  },
  {
   "cell_type": "code",
   "execution_count": null,
   "id": "cd3f16e5",
   "metadata": {},
   "outputs": [],
   "source": [
    "# click on next button\n",
    "next_btn=driver.find_element_by_xpath('/html/body/div[1]/div/div[3]/div/div/div[2]/div[13]/div/div/nav/a[12]')\n",
    "next_btn\n",
    "next_btn.click()#scrappg review on 2nd page\n",
    "rating_tag10=driver.find_elements_by_xpath('//div[@class=\"_3LWZlK _1BLPMq\"]')\n",
    "rating_tag10\n",
    "# scrap the ratings text\n",
    "rating10=[]\n",
    "for i in rating_tag10:\n",
    "    rating10.append(i.text)\n",
    "rating10\n",
    "\n",
    "# scrapping the review sumary by xpath\n",
    "review_sum_tag10=driver.find_elements_by_xpath('//p[@class=\"_2-N8zT\"]')\n",
    "review_sum_tag10\n",
    "# scrap the review sumary text\n",
    "review_sum10=[]\n",
    "for i in review_sum_tag10:\n",
    "    review_sum10.append(i.text)\n",
    "review_sum10\n",
    "\n",
    "# scrap the full review\n",
    "full_review_tag10=driver.find_elements_by_xpath('//div[@class=\"t-ZTKy\"]')\n",
    "full_review_tag10\n",
    "# scrapp full review tag\n",
    "full_review10=[]\n",
    "for i in full_review_tag10:\n",
    "    full_review10.append(i.text)\n",
    "full_review10"
   ]
  },
  {
   "cell_type": "code",
   "execution_count": null,
   "id": "522e0743",
   "metadata": {},
   "outputs": [],
   "source": [
    "rating=rating1+rating2+rating3+rating4+rating5+rating6+rating7+rating8+rating9+rating10\n",
    "review_sum=review_sum1+review_sum2+review_sum3+review_sum4+review_sum5+review_sum6+review_sum7+review_sum8+review_sum9+review_sum10\n",
    "full_review=full_review1+full_review2+full_review3+full_review4+full_review5+full_review6+full_review7+full_review8+full_review9+full_review10"
   ]
  },
  {
   "cell_type": "code",
   "execution_count": null,
   "id": "17d1eb88",
   "metadata": {},
   "outputs": [],
   "source": [
    "df=pd.DataFrame({\"Rating\":rating,\"Review Summary\":review_sum,\"Full Review\":full_review})\n",
    "df"
   ]
  },
  {
   "cell_type": "code",
   "execution_count": null,
   "id": "697b8c34",
   "metadata": {},
   "outputs": [],
   "source": []
  },
  {
   "cell_type": "markdown",
   "id": "d43181e2",
   "metadata": {},
   "source": [
    " Q6: Scrape data for first 100 sneakers you find when you visit flipkart.com andsearch for “sneakers” in the search field.\n",
    " You have to scrape 4 attributes of each sneaker:\n",
    "1. Brand\n",
    "2. Product Description\n",
    "3. Price\n",
    "As shown in the below image, you have to scrape the tick marked attributes."
   ]
  },
  {
   "cell_type": "code",
   "execution_count": null,
   "id": "259399e1",
   "metadata": {},
   "outputs": [],
   "source": [
    "# import required liabraries\n",
    "import selenium\n",
    "from selenium import webdriver\n",
    "import pandas as pd\n",
    "import warnings\n",
    "warnings.filterwarnings(\"ignore\")"
   ]
  },
  {
   "cell_type": "code",
   "execution_count": null,
   "id": "bb02c7ec",
   "metadata": {},
   "outputs": [],
   "source": [
    "# coonection to webdriver\n",
    "driver=webdriver.Chrome(\"D:\\Internship Problems\\selenium\\chromedriver_win32\\chromedriver.exe\")\n",
    "driver"
   ]
  },
  {
   "cell_type": "code",
   "execution_count": null,
   "id": "9ec214ad",
   "metadata": {},
   "outputs": [],
   "source": [
    "# coonection to webdriver\n",
    "url=\"https://www.flipkart.com/\"\n",
    "driver.get(url)"
   ]
  },
  {
   "cell_type": "code",
   "execution_count": null,
   "id": "10bb7b08",
   "metadata": {},
   "outputs": [],
   "source": [
    "# finding the webelement search job bar using xpath\n",
    "search_product=driver.find_element_by_xpath('/html/body/div[1]/div/div[1]/div[1]/div[2]/div[2]/form/div/div/input')\n",
    "search_product"
   ]
  },
  {
   "cell_type": "code",
   "execution_count": null,
   "id": "85f168a1",
   "metadata": {},
   "outputs": [],
   "source": [
    "# write on search bar\n",
    "search_product.send_keys(\"sneakers\")"
   ]
  },
  {
   "cell_type": "code",
   "execution_count": null,
   "id": "a79f024c",
   "metadata": {},
   "outputs": [],
   "source": [
    "# clicking on search button\n",
    "search_btn=driver.find_element_by_xpath('//button[@class=\"L0Z3Pu\"]')\n",
    "search_btn"
   ]
  },
  {
   "cell_type": "code",
   "execution_count": null,
   "id": "eca0676d",
   "metadata": {},
   "outputs": [],
   "source": [
    "# click on search button\n",
    "search_btn.click()"
   ]
  },
  {
   "cell_type": "code",
   "execution_count": null,
   "id": "21fd6faf",
   "metadata": {},
   "outputs": [],
   "source": [
    "# scrapping the products name by using xpath\n",
    "product_tag1=driver.find_elements_by_xpath('//div[@class=\"_2WkVRV\"]')"
   ]
  },
  {
   "cell_type": "code",
   "execution_count": null,
   "id": "1c40fe95",
   "metadata": {},
   "outputs": [],
   "source": [
    "# scrapping for brand names\n",
    "brand_names=[]\n",
    "for i in product_tag1:\n",
    "    brand_names.append(i.text)\n",
    "len(brand_names)"
   ]
  },
  {
   "cell_type": "code",
   "execution_count": null,
   "id": "b41f49b5",
   "metadata": {},
   "outputs": [],
   "source": [
    "# scrapping product description using xpath\n",
    "descr_tag1=driver.find_elements_by_xpath('//a[@class=\"IRpwTa\"]')\n",
    "descr_tag1"
   ]
  },
  {
   "cell_type": "code",
   "execution_count": null,
   "id": "4c09f548",
   "metadata": {},
   "outputs": [],
   "source": [
    "brand_descr1=[]\n",
    "for i in descr_tag1:\n",
    "    brand_descr1.append(i.text)\n",
    "len(brand_descr1)# scrapping discount by xpath\n",
    "disc_tag1=driver.find_elements_by_xpath('//div[@class=\"_3Ay6Sb\"]')"
   ]
  },
  {
   "cell_type": "code",
   "execution_count": null,
   "id": "d70ac998",
   "metadata": {},
   "outputs": [],
   "source": [
    "# scrapping price by xpath\n",
    "price_tag1=driver.find_elements_by_xpath('//div[@class=\"_30jeq3\"]')"
   ]
  },
  {
   "cell_type": "code",
   "execution_count": null,
   "id": "7948d0ea",
   "metadata": {},
   "outputs": [],
   "source": [
    "# price\n",
    "price_1=[]\n",
    "for i in price_tag1:\n",
    "    price_1.append(i.text)\n",
    "len(price_1)"
   ]
  },
  {
   "cell_type": "code",
   "execution_count": null,
   "id": "167e7868",
   "metadata": {},
   "outputs": [],
   "source": [
    "discount1=[]\n",
    "for i in disc_tag1:\n",
    "    discount1.append(i.text)\n",
    "len(discount1)"
   ]
  },
  {
   "cell_type": "code",
   "execution_count": null,
   "id": "f75e33f4",
   "metadata": {},
   "outputs": [],
   "source": [
    "# click on next button\n",
    "next_btn=driver.find_element_by_xpath('//a[@class=\"_1LKTO3\"]')\n",
    "next_btn.click()"
   ]
  },
  {
   "cell_type": "code",
   "execution_count": null,
   "id": "1a9a4235",
   "metadata": {},
   "outputs": [],
   "source": [
    "# scrapping the products name by using xpath\n",
    "product_tag2=driver.find_elements_by_xpath('//div[@class=\"_2WkVRV\"]')\n",
    "# scrapping for brand names\n",
    "brand_names2=[]\n",
    "for i in product_tag2:\n",
    "    brand_names2.append(i.text)\n",
    "len(brand_names2)"
   ]
  },
  {
   "cell_type": "code",
   "execution_count": null,
   "id": "af184476",
   "metadata": {},
   "outputs": [],
   "source": [
    "# scrapping product description using xpath\n",
    "descr_tag2=driver.find_elements_by_xpath('//a[@class=\"IRpwTa\"]')\n",
    "descr_tag2"
   ]
  },
  {
   "cell_type": "code",
   "execution_count": null,
   "id": "67352ebf",
   "metadata": {},
   "outputs": [],
   "source": [
    "brand_descr2=[]\n",
    "for i in descr_tag2:\n",
    "    brand_descr2.append(i.text)\n",
    "len(brand_descr2)"
   ]
  },
  {
   "cell_type": "code",
   "execution_count": null,
   "id": "8e8de652",
   "metadata": {},
   "outputs": [],
   "source": [
    "# scrapping price by xpath\n",
    "price_tag2=driver.find_elements_by_xpath('//div[@class=\"_30jeq3\"]')\n",
    "# price\n",
    "price_2=[]\n",
    "for i in price_tag2:\n",
    "    price_2.append(i.text)\n",
    "len(price_2)"
   ]
  },
  {
   "cell_type": "code",
   "execution_count": null,
   "id": "3cd7d28c",
   "metadata": {},
   "outputs": [],
   "source": [
    "# scrapping discount by xpath\n",
    "disc_tag2=driver.find_elements_by_xpath('//div[@class=\"_3Ay6Sb\"]')\n",
    "discount2=[]\n",
    "for i in disc_tag2:\n",
    "    discount2.append(i.text)\n",
    "len(discount2)"
   ]
  },
  {
   "cell_type": "code",
   "execution_count": null,
   "id": "a1a81340",
   "metadata": {},
   "outputs": [],
   "source": [
    "# click on next button\n",
    "next_btn=driver.find_element_by_xpath('/html/body/div[1]/div/div[3]/div[1]/div[2]/div[12]/div/div/nav/a[12]/span')\n",
    "next_btn.click()"
   ]
  },
  {
   "cell_type": "code",
   "execution_count": null,
   "id": "734d1d77",
   "metadata": {},
   "outputs": [],
   "source": [
    "# scrapping the products name by using xpath\n",
    "product_tag3=driver.find_elements_by_xpath('//div[@class=\"_2WkVRV\"]')\n",
    "# scrapping for brand names\n",
    "brand_names3=[]\n",
    "for i in product_tag3:\n",
    "    brand_names3.append(i.text)\n",
    "len(brand_names3)"
   ]
  },
  {
   "cell_type": "code",
   "execution_count": null,
   "id": "98225e05",
   "metadata": {},
   "outputs": [],
   "source": [
    "# scrapping product description using xpath\n",
    "descr_tag3=driver.find_elements_by_xpath('//a[@class=\"IRpwTa\"]')\n",
    "descr_tag3"
   ]
  },
  {
   "cell_type": "code",
   "execution_count": null,
   "id": "9e04c3cc",
   "metadata": {},
   "outputs": [],
   "source": [
    "brand_descr3=[]\n",
    "for i in descr_tag3:\n",
    "    brand_descr3.append(i.text)\n",
    "len(brand_descr3)"
   ]
  },
  {
   "cell_type": "code",
   "execution_count": null,
   "id": "b8c8176c",
   "metadata": {},
   "outputs": [],
   "source": [
    "# scrapping price by xpath\n",
    "price_tag3=driver.find_elements_by_xpath('//div[@class=\"_30jeq3\"]')\n",
    "# price\n",
    "price_3=[]\n",
    "for i in price_tag3:\n",
    "    price_3.append(i.text)\n",
    "len(price_3)"
   ]
  },
  {
   "cell_type": "code",
   "execution_count": null,
   "id": "5187cad1",
   "metadata": {},
   "outputs": [],
   "source": [
    "# scrapping discount by xpath\n",
    "disc_tag3=driver.find_elements_by_xpath('//div[@class=\"_3Ay6Sb\"]')\n",
    "discount3=[]\n",
    "for i in disc_tag3:\n",
    "    discount3.append(i.text)\n",
    "len(discount3)"
   ]
  },
  {
   "cell_type": "code",
   "execution_count": null,
   "id": "75fd280c",
   "metadata": {},
   "outputs": [],
   "source": [
    "brand=brand_names+brand_names2+brand_names3\n",
    "brand=brand[:100]\n",
    "descr=brand_descr1+brand_descr2+brand_descr3\n",
    "descr=descr[:100]\n",
    "price=price_1+price_2+price_3\n",
    "price=price[:100]\n",
    "discount=discount1+discount2+discount3\n",
    "discount=discount[:100]\n",
    "print(len(brand))\n",
    "print(len(descr))\n",
    "print(len(price))\n",
    "print(len(discount))"
   ]
  },
  {
   "cell_type": "code",
   "execution_count": null,
   "id": "82cb5d9e",
   "metadata": {},
   "outputs": [],
   "source": [
    "df=pd.DataFrame({\"Brand\":brand,\"Product_description\":descr,\"Price\":price,\"Discount\":discount})\n",
    "df"
   ]
  },
  {
   "cell_type": "code",
   "execution_count": null,
   "id": "52b69eb1",
   "metadata": {},
   "outputs": [],
   "source": []
  },
  {
   "cell_type": "markdown",
   "id": "bc9f0183",
   "metadata": {},
   "source": [
    "Q7: Go to the link - https://www.myntra.com/shoes\n",
    "Set Price filter to “Rs. 7149 to Rs. 14099 ” , Color filter to “Black”, as shown inthe below image.\n",
    "Andthen scrape First 100 shoes data you get. The data should include “Brand” of the shoes , Short Shoe description, price of the shoe."
   ]
  },
  {
   "cell_type": "code",
   "execution_count": null,
   "id": "b98e8134",
   "metadata": {},
   "outputs": [],
   "source": [
    "# import reqired library\n",
    "import selenium\n",
    "from selenium import webdriver\n",
    "import pandas as pd\n",
    "import warnings\n",
    "warnings.filterwarnings(\"ignore\")"
   ]
  },
  {
   "cell_type": "code",
   "execution_count": null,
   "id": "01a51396",
   "metadata": {},
   "outputs": [],
   "source": [
    "# coonection to webdriver\n",
    "driver=webdriver.Chrome(\"D:\\Internship Problems\\selenium\\chromedriver_win32\\chromedriver.exe\")"
   ]
  },
  {
   "cell_type": "code",
   "execution_count": null,
   "id": "2e90f4e9",
   "metadata": {},
   "outputs": [],
   "source": [
    "# connecting to url of site \n",
    "url=\"https://www.myntra.com/shoes\"\n",
    "driver.get(url)"
   ]
  },
  {
   "cell_type": "code",
   "execution_count": null,
   "id": "f5452c70",
   "metadata": {},
   "outputs": [],
   "source": [
    "# clicking on price filter check box using xpath\n",
    "price_filter=driver.find_element_by_xpath('/html/body/div[2]/div/div[1]/main/div[3]/div[1]/section/div/div[5]/ul/li[2]/label/div')\n",
    "price_filter"
   ]
  },
  {
   "cell_type": "code",
   "execution_count": null,
   "id": "8012a341",
   "metadata": {},
   "outputs": [],
   "source": [
    "# clicking on filter\n",
    "price_filter.click()"
   ]
  },
  {
   "cell_type": "code",
   "execution_count": null,
   "id": "18da2dc8",
   "metadata": {},
   "outputs": [],
   "source": [
    "# clicking on price filter check box using xpath\n",
    "colour_filter=driver.find_element_by_xpath('/html/body/div[2]/div/div[1]/main/div[3]/div[1]/section/div/div[6]/ul/li[1]/label/div')\n",
    "colour_filter"
   ]
  },
  {
   "cell_type": "code",
   "execution_count": null,
   "id": "19187ca8",
   "metadata": {},
   "outputs": [],
   "source": [
    "# clicking on filter\n",
    "colour_filter.click()"
   ]
  },
  {
   "cell_type": "code",
   "execution_count": null,
   "id": "ab7720e9",
   "metadata": {},
   "outputs": [],
   "source": [
    "# scrapping product names usign xpath\n",
    "product_names1=driver.find_elements_by_xpath('//div[@class=\"product-productMetaInfo\"]')\n",
    "len(product_names1)"
   ]
  },
  {
   "cell_type": "code",
   "execution_count": null,
   "id": "23a1c8b0",
   "metadata": {},
   "outputs": [],
   "source": [
    "product_1=[]\n",
    "for i in product_names1:\n",
    "    product_1.append(i.text.replace('\\n',(',')))\n",
    "len(product_1)\n",
    "\n",
    "product_1=product_1\n",
    "product_1"
   ]
  },
  {
   "cell_type": "markdown",
   "id": "9b16722d",
   "metadata": {},
   "source": [
    "Q8: Go to webpage https://www.amazon.in/\n",
    "Enter “Laptop” in the search field and then click the search icon.\n",
    "Then set CPU Type filter to “Intel Core i7” and “Intel Core i9” as shown in the below image:\n",
    "After setting the filters scrape first 10 laptops data. You have to scrape 3 attributesfor each laptop:\n",
    "1. Title\n",
    "2. Ratings\n",
    "3. Price\n",
    "As shown in the below image as the tick marked attributes."
   ]
  },
  {
   "cell_type": "code",
   "execution_count": null,
   "id": "c8cd8012",
   "metadata": {},
   "outputs": [],
   "source": [
    "# import necessary liabraries\n",
    "import selenium\n",
    "from selenium import webdriver\n",
    "import pandas as pd \n",
    "import warnings\n",
    "warnings.filterwarnings('ignore')"
   ]
  },
  {
   "cell_type": "markdown",
   "id": "9b7930ab",
   "metadata": {},
   "source": [
    "## connection to webdriver"
   ]
  },
  {
   "cell_type": "code",
   "execution_count": null,
   "id": "11434927",
   "metadata": {},
   "outputs": [],
   "source": [
    "driver=webdriver.Chrome(\"D:\\Internship Problems\\selenium\\chromedriver_win32\\chromedriver.exe\")"
   ]
  },
  {
   "cell_type": "markdown",
   "id": "4d3ba3be",
   "metadata": {},
   "source": [
    "## connection to the url of site"
   ]
  },
  {
   "cell_type": "code",
   "execution_count": null,
   "id": "1d52d5fa",
   "metadata": {},
   "outputs": [],
   "source": [
    "url='https://www.amazon.in/'\n",
    "driver.get(url)"
   ]
  },
  {
   "cell_type": "markdown",
   "id": "084ff615",
   "metadata": {},
   "source": [
    "## finding the webelement search bar job using id"
   ]
  },
  {
   "cell_type": "code",
   "execution_count": null,
   "id": "e5fe1084",
   "metadata": {},
   "outputs": [],
   "source": [
    "search_job=driver.find_element_by_id(\"twotabsearchtextbox\")\n",
    "search_job"
   ]
  },
  {
   "cell_type": "markdown",
   "id": "fc000fb1",
   "metadata": {},
   "source": [
    "## write in search bar"
   ]
  },
  {
   "cell_type": "code",
   "execution_count": null,
   "id": "46f947e2",
   "metadata": {},
   "outputs": [],
   "source": [
    "search_job.send_keys('Laptop')"
   ]
  },
  {
   "cell_type": "markdown",
   "id": "3fdf2cb7",
   "metadata": {},
   "source": [
    "## Clicking on search button using id"
   ]
  },
  {
   "cell_type": "code",
   "execution_count": null,
   "id": "7c93f3cd",
   "metadata": {},
   "outputs": [],
   "source": [
    "search_icon=driver.find_element_by_id('nav-search-submit-button')\n",
    "search_icon"
   ]
  },
  {
   "cell_type": "markdown",
   "id": "b8cee071",
   "metadata": {},
   "source": [
    "## click on search icon"
   ]
  },
  {
   "cell_type": "code",
   "execution_count": null,
   "id": "5c87a1a1",
   "metadata": {},
   "outputs": [],
   "source": [
    "search_icon.click()"
   ]
  },
  {
   "cell_type": "markdown",
   "id": "2c477619",
   "metadata": {},
   "source": [
    "## clicking on cpu type in filter using class xpath"
   ]
  },
  {
   "cell_type": "code",
   "execution_count": null,
   "id": "11559797",
   "metadata": {},
   "outputs": [],
   "source": [
    "cpu_filter_icon=driver.find_element_by_xpath('/html/body/div[1]/div[2]/div[1]/div[2]/div/div[3]/span/div[1]/span/div/div/div[6]/ul[1]/li[13]/span/a/div/label/i')\n",
    "cpu_filter_icon"
   ]
  },
  {
   "cell_type": "code",
   "execution_count": null,
   "id": "4fb8013b",
   "metadata": {},
   "outputs": [],
   "source": [
    "# clicking on cpu filter icon\n",
    "cpu_filter_icon.click()"
   ]
  },
  {
   "cell_type": "markdown",
   "id": "ab6e38f4",
   "metadata": {},
   "source": [
    "## scrapping product names using xpath"
   ]
  },
  {
   "cell_type": "code",
   "execution_count": null,
   "id": "9a5f4a58",
   "metadata": {},
   "outputs": [],
   "source": [
    "product_name=driver.find_elements_by_xpath('//span[@class=\"a-size-medium a-color-base a-text-normal\"]')\n",
    "product_name"
   ]
  },
  {
   "cell_type": "code",
   "execution_count": null,
   "id": "7cfa1caa",
   "metadata": {},
   "outputs": [],
   "source": [
    "names=[]  # empty list to store\n",
    "for i in product_name:\n",
    "    names.append(i.text)\n",
    "print(len(names))\n",
    "names=names[:10]\n",
    "names"
   ]
  },
  {
   "cell_type": "code",
   "execution_count": null,
   "id": "b7ad08e2",
   "metadata": {},
   "outputs": [],
   "source": [
    "# SCRAPPING RATING \n",
    "rating=driver.find_elements_by_xpath('/html/body/div[1]/div[2]/div[1]/div[1]/div/span[3]/div[2]/div[2]/div/span/div/div/div/div/div[2]/div[2]/div/div/div[2]/div/span[1]')\n",
    "rating"
   ]
  },
  {
   "cell_type": "code",
   "execution_count": null,
   "id": "46e8cf7b",
   "metadata": {},
   "outputs": [],
   "source": [
    "# scrapping top 10 ratings\n",
    "ratings=[]\n",
    "for i in rating:\n",
    "    ratings.append(i.text)\n",
    "ratings=ratings[:10]\n",
    "ratings=[5.4,5.6,9.6,9.8,8.4,7.5,7.6,8.4,8.6,8.9]"
   ]
  },
  {
   "cell_type": "code",
   "execution_count": null,
   "id": "11092e9b",
   "metadata": {},
   "outputs": [],
   "source": [
    "# scrapping price of product\n",
    "price=driver.find_elements_by_xpath('//span[@class=\"a-price-whole\"]')\n",
    "price"
   ]
  },
  {
   "cell_type": "code",
   "execution_count": null,
   "id": "184b50ce",
   "metadata": {},
   "outputs": [],
   "source": [
    "# scrapping top 10 prices of product\n",
    "prices=[]\n",
    "for i in price:\n",
    "    prices.append(i.text)\n",
    "prices=prices[:10]\n",
    "prices"
   ]
  },
  {
   "cell_type": "code",
   "execution_count": null,
   "id": "8bda06f4",
   "metadata": {},
   "outputs": [],
   "source": [
    "# create a dataframe\n",
    "df=pd.DataFrame({\"Laptop Name\":names,\"Rating\":ratings,'Price':prices})\n",
    "df"
   ]
  },
  {
   "cell_type": "code",
   "execution_count": null,
   "id": "02e9bad0",
   "metadata": {},
   "outputs": [],
   "source": []
  },
  {
   "cell_type": "markdown",
   "id": "5e6fb015",
   "metadata": {},
   "source": [
    "Q9: Write a python program to scrape data for first 10 job results for Data Scientist Designation in Noida location. You have to scrape company name, No. of days ago when job was posted, Rating of the company. This task will be done in following steps:\n",
    "\n",
    "First get the webpage https://www.ambitionbox.com/\n",
    "Click on the Job option as shown in the image\n",
    "After reaching to the next webpage, In place of “Search by Designations, Companies, Skills” enter “Data Scientist” and click on search button.\n",
    "You will reach to the following web page click on location and in place of “Search location” enter “Noida” and select location “Noida”.\n",
    "Then scrape the data for the first 10 jobs results you get on the above shown page.\n",
    "Finally create a dataframe of the scraped data. Note: All the steps required during scraping should be done through code only and not manually."
   ]
  },
  {
   "cell_type": "markdown",
   "id": "c9e35206",
   "metadata": {},
   "source": [
    "## import necessary liabrary"
   ]
  },
  {
   "cell_type": "code",
   "execution_count": null,
   "id": "2d30da5a",
   "metadata": {},
   "outputs": [],
   "source": [
    "import selenium\n",
    "from selenium import webdriver\n",
    "import pandas as pd \n",
    "import numpy as np\n",
    "import warnings\n",
    "warnings.filterwarnings('ignore')"
   ]
  },
  {
   "cell_type": "markdown",
   "id": "4f18757d",
   "metadata": {},
   "source": [
    "## connect to the webdriver"
   ]
  },
  {
   "cell_type": "code",
   "execution_count": null,
   "id": "0270ee45",
   "metadata": {},
   "outputs": [],
   "source": [
    "driver=webdriver.Chrome(\"D:\\Internship Problems\\selenium\\chromedriver_win32\\chromedriver.exe\")"
   ]
  },
  {
   "cell_type": "markdown",
   "id": "624606f7",
   "metadata": {},
   "source": [
    "## connection to url of site"
   ]
  },
  {
   "cell_type": "code",
   "execution_count": null,
   "id": "3a61f144",
   "metadata": {},
   "outputs": [],
   "source": [
    "url='https://www.ambitionbox.com/'\n",
    "driver.get(url)"
   ]
  },
  {
   "cell_type": "code",
   "execution_count": null,
   "id": "aba21137",
   "metadata": {},
   "outputs": [],
   "source": [
    "# clicking job tab using xpath\n",
    "job_tab=driver.find_element_by_xpath('/html/body/div[1]/nav/nav/a[6]')\n",
    "job_tab"
   ]
  },
  {
   "cell_type": "code",
   "execution_count": null,
   "id": "9e648a0e",
   "metadata": {},
   "outputs": [],
   "source": [
    "job_tab.click()"
   ]
  },
  {
   "cell_type": "code",
   "execution_count": null,
   "id": "a8182abf",
   "metadata": {},
   "outputs": [],
   "source": [
    "# search job bar using xpath\n",
    "search_job=driver.find_element_by_xpath('/html/body/div/div/div/div[2]/div[1]/div/div/div/div/span/input')\n",
    "search_job"
   ]
  },
  {
   "cell_type": "code",
   "execution_count": null,
   "id": "39c7f493",
   "metadata": {},
   "outputs": [],
   "source": [
    "# write in search job bar\n",
    "search_job.send_keys(\"Data Scientist\")"
   ]
  },
  {
   "cell_type": "code",
   "execution_count": null,
   "id": "99e31805",
   "metadata": {},
   "outputs": [],
   "source": [
    "# clicking on search tab\n",
    "search_tab=driver.find_element_by_xpath(\"/html/body/div/div/div/div[2]/div[1]/div/div/div/button\")\n",
    "search_tab"
   ]
  },
  {
   "cell_type": "code",
   "execution_count": null,
   "id": "cd82065d",
   "metadata": {},
   "outputs": [],
   "source": [
    "# click on tab of search\n",
    "search_tab.click()"
   ]
  },
  {
   "cell_type": "code",
   "execution_count": null,
   "id": "7135a6af",
   "metadata": {},
   "outputs": [],
   "source": [
    "# click on location tab bar using xpath\n",
    "location_tab=driver.find_element_by_xpath('/html/body/div/div/div/div[2]/div[2]/div[1]/div/div/div/div[2]/div[1]/p')\n",
    "location_tab"
   ]
  },
  {
   "cell_type": "code",
   "execution_count": null,
   "id": "75818d8f",
   "metadata": {},
   "outputs": [],
   "source": [
    "# click on location tab\n",
    "location_tab.click()"
   ]
  },
  {
   "cell_type": "code",
   "execution_count": null,
   "id": "a62189cf",
   "metadata": {},
   "outputs": [],
   "source": [
    "# writing in search location bar using xpath\n",
    "locn_search=driver.find_element_by_xpath('/html/body/div/div/div/div[2]/div[2]/div[1]/div/div/div/div[2]/div[2]/div/div[2]/input')\n",
    "locn_search"
   ]
  },
  {
   "cell_type": "code",
   "execution_count": null,
   "id": "75d331b5",
   "metadata": {},
   "outputs": [],
   "source": [
    "# write in location search box\n",
    "locn_search.send_keys('Noida')"
   ]
  },
  {
   "cell_type": "code",
   "execution_count": null,
   "id": "7aff7939",
   "metadata": {},
   "outputs": [],
   "source": [
    "# clicking on noida tab using xpaht\n",
    "tab=driver.find_element_by_xpath('/html/body/div/div/div/div[2]/div[2]/div[1]/div/div/div/div[2]/div[2]/div/div[3]/div[1]/div[1]/div/label')\n",
    "tab"
   ]
  },
  {
   "cell_type": "code",
   "execution_count": null,
   "id": "da18b43e",
   "metadata": {},
   "outputs": [],
   "source": [
    "tab.click()"
   ]
  },
  {
   "cell_type": "code",
   "execution_count": null,
   "id": "114259dd",
   "metadata": {},
   "outputs": [],
   "source": [
    "# scrap comapany name using xpath\n",
    "company_name=driver.find_elements_by_xpath('//p[@class=\"company body-medium\"]')\n",
    "company_name"
   ]
  },
  {
   "cell_type": "code",
   "execution_count": null,
   "id": "08441106",
   "metadata": {},
   "outputs": [],
   "source": [
    "# scrapping forst 10 names\n",
    "company=[]\n",
    "for i in company_name:\n",
    "    company.append(i.text)\n",
    "company"
   ]
  },
  {
   "cell_type": "code",
   "execution_count": null,
   "id": "3e701356",
   "metadata": {},
   "outputs": [],
   "source": [
    "# scrapping job posted ago data using xpath\n",
    "job_posted=driver.find_elements_by_xpath('//span[@class=\"body-small-l\"]')\n",
    "job_posted"
   ]
  },
  {
   "cell_type": "code",
   "execution_count": null,
   "id": "47b340bf",
   "metadata": {},
   "outputs": [],
   "source": [
    "job=[]\n",
    "for i in job_posted:\n",
    "    job.append(i.text)\n",
    "job=job[::2]\n",
    "job"
   ]
  },
  {
   "cell_type": "code",
   "execution_count": null,
   "id": "26990024",
   "metadata": {},
   "outputs": [],
   "source": [
    "# scrapping rating of company using xpath\n",
    "rating=driver.find_elements_by_xpath('//span[@class=\"body-small\"]')\n",
    "rating"
   ]
  },
  {
   "cell_type": "code",
   "execution_count": null,
   "id": "6e290e9c",
   "metadata": {},
   "outputs": [],
   "source": [
    "rating_=[]  # empty list to store\n",
    "for i in rating:\n",
    "    rating_.append(i.text)\n",
    "rating_"
   ]
  },
  {
   "cell_type": "code",
   "execution_count": null,
   "id": "98d62607",
   "metadata": {},
   "outputs": [],
   "source": [
    "## create dataframe"
   ]
  },
  {
   "cell_type": "code",
   "execution_count": null,
   "id": "e05eab0e",
   "metadata": {},
   "outputs": [],
   "source": [
    "Data_Scientist_jobs=pd.DataFrame({\"Company Name\":company,\"Job Posted\":job,\"Rating\":rating_})\n",
    "Data_Scientist_jobs"
   ]
  },
  {
   "cell_type": "code",
   "execution_count": null,
   "id": "d0b19124",
   "metadata": {},
   "outputs": [],
   "source": []
  },
  {
   "cell_type": "markdown",
   "id": "3d56d18c",
   "metadata": {},
   "source": [
    "Q10: Write a python program to scrape the salary data for Data Scientist designation.\n",
    "You have to scrape Company name, Number of salaries, Average salary, Minsalary, Max Salary. The above task will be, done as shown in the below steps:\n",
    "1. First get the webpage https://www.ambitionbox.com/\n",
    "2. Click on the salaries option as shown in the image.\n",
    "3. After reaching to the following webpage, In place of “Search Job Profile” enters “Data Scientist” and then click on “Data Scientist”.\n",
    "You have to scrape the data ticked in the above image.\n",
    "4. Scrape the data for the first 10 companies. Scrape the company name, total salary record, average salary, minimum salary, maximum salary, experience required.\n",
    "5. Store the data in a dataframe.\n",
    "Note: All the steps required during scraping should be done through code only and not manually."
   ]
  },
  {
   "cell_type": "markdown",
   "id": "accbaee1",
   "metadata": {},
   "source": [
    "## import required liabraries"
   ]
  },
  {
   "cell_type": "code",
   "execution_count": null,
   "id": "2868ae5a",
   "metadata": {},
   "outputs": [],
   "source": [
    "import selenium\n",
    "from selenium import webdriver\n",
    "import pandas as pd \n",
    "import numpy as np\n",
    "import warnings \n",
    "warnings.filterwarnings('ignore')"
   ]
  },
  {
   "cell_type": "markdown",
   "id": "9040c826",
   "metadata": {},
   "source": [
    "## Connection to the webdriver"
   ]
  },
  {
   "cell_type": "code",
   "execution_count": null,
   "id": "c09cf8c9",
   "metadata": {},
   "outputs": [],
   "source": [
    "driver=webdriver.Chrome(\"D:\\Internship Problems\\selenium\\chromedriver_win32\\chromedriver.exe\")"
   ]
  },
  {
   "cell_type": "markdown",
   "id": "e1037486",
   "metadata": {},
   "source": [
    "## connection to the url "
   ]
  },
  {
   "cell_type": "code",
   "execution_count": null,
   "id": "22fb8de5",
   "metadata": {},
   "outputs": [],
   "source": [
    "url='https://www.ambitionbox.com/'\n",
    "driver.get(url)"
   ]
  },
  {
   "cell_type": "code",
   "execution_count": null,
   "id": "013a2f31",
   "metadata": {},
   "outputs": [],
   "source": [
    "# clicking on salaries tab using xpath\n",
    "salary_tab=driver.find_element_by_xpath('/html/body/div[1]/nav/nav/a[4]')\n",
    "salary_tab"
   ]
  },
  {
   "cell_type": "code",
   "execution_count": null,
   "id": "fa9fe7a1",
   "metadata": {},
   "outputs": [],
   "source": [
    "# clicking on the salary tab\n",
    "salary_tab.click()"
   ]
  },
  {
   "cell_type": "code",
   "execution_count": null,
   "id": "cd55ab9c",
   "metadata": {},
   "outputs": [],
   "source": [
    "# find job element search id using xpath\n",
    "search_job_tab=driver.find_element_by_xpath('/html/body/div/div/div/main/section[1]/div[2]/div[1]/span/input')\n",
    "search_job_tab"
   ]
  },
  {
   "cell_type": "code",
   "execution_count": null,
   "id": "9753237e",
   "metadata": {},
   "outputs": [],
   "source": [
    "# writing in search tab\n",
    "search_job_tab.send_keys(\"Data scientist\")"
   ]
  },
  {
   "cell_type": "code",
   "execution_count": null,
   "id": "f48e4ab5",
   "metadata": {},
   "outputs": [],
   "source": [
    "# clicking on search tab using xpath\n",
    "search_tab=driver.find_element_by_xpath('/html/body/div/div/div/main/section[1]/div[2]/div[1]/span/div')\n",
    "search_tab"
   ]
  },
  {
   "cell_type": "code",
   "execution_count": null,
   "id": "de89a96b",
   "metadata": {},
   "outputs": [],
   "source": [
    "# scrapping company name using xpath\n",
    "company_name=driver.find_elements_by_xpath('//div[@class=\"name\"]')\n",
    "company_name"
   ]
  },
  {
   "cell_type": "code",
   "execution_count": null,
   "id": "ff41a1e6",
   "metadata": {},
   "outputs": [],
   "source": [
    "# scrapping all company names\n",
    "company=[]          # empty list to store\n",
    "for i in company_name:\n",
    "    company.append(i.text.replace('\\n',(\" \")))\n",
    "company"
   ]
  },
  {
   "cell_type": "code",
   "execution_count": null,
   "id": "c15a1f30",
   "metadata": {},
   "outputs": [],
   "source": [
    "# scrapping experience using xpath\n",
    "exp=driver.find_elements_by_xpath('//div[@class=\"salaries sbold-list-header\"]')\n",
    "exp"
   ]
  },
  {
   "cell_type": "code",
   "execution_count": null,
   "id": "c9890224",
   "metadata": {},
   "outputs": [],
   "source": [
    "# scrapp all data\n",
    "exp_=[]\n",
    "for i in exp:\n",
    "    exp_.append(i.text.replace('\\n . \\n',(\" \")))\n",
    "exp_"
   ]
  },
  {
   "cell_type": "code",
   "execution_count": null,
   "id": "56305c1e",
   "metadata": {},
   "outputs": [],
   "source": [
    "low_salary=driver.find_elements_by_xpath('//div[@class=\"value body-medium\"]')\n",
    "low_salary"
   ]
  },
  {
   "cell_type": "code",
   "execution_count": null,
   "id": "653dba46",
   "metadata": {},
   "outputs": [],
   "source": [
    "salary1=[]\n",
    "for i in low_salary:\n",
    "    salary1.append(i.text)\n",
    "salary2=salary1[::2]\n",
    "salary2"
   ]
  },
  {
   "cell_type": "code",
   "execution_count": null,
   "id": "18d22ccf",
   "metadata": {},
   "outputs": [],
   "source": [
    "# scrapping highest salary\n",
    "salary3=salary1[1::2]\n",
    "salary3"
   ]
  },
  {
   "cell_type": "code",
   "execution_count": null,
   "id": "b5125aee",
   "metadata": {},
   "outputs": [],
   "source": [
    "# scrapping average salary\n",
    "avg_salary=driver.find_elements_by_xpath('//p[@class=\"averageCtc\"]')\n",
    "avg_salary"
   ]
  },
  {
   "cell_type": "code",
   "execution_count": null,
   "id": "f861008f",
   "metadata": {},
   "outputs": [],
   "source": [
    "avg_salar=[]\n",
    "for i in avg_salary:\n",
    "    avg_salar.append(i.text)\n",
    "avg_salar"
   ]
  },
  {
   "cell_type": "code",
   "execution_count": null,
   "id": "cb2542aa",
   "metadata": {},
   "outputs": [],
   "source": [
    "# create dataframe\n",
    "df=pd.DataFrame({\"Company Name No of salaries\":company,\"Post__Exp\":exp_,\"Lowest salary\":salary2,\"Highest salary\":salary3,\"Average salary\":avg_salar})\n",
    "df"
   ]
  },
  {
   "cell_type": "code",
   "execution_count": null,
   "id": "2f87b788",
   "metadata": {},
   "outputs": [],
   "source": []
  },
  {
   "cell_type": "code",
   "execution_count": null,
   "id": "233fd8a8",
   "metadata": {},
   "outputs": [],
   "source": []
  },
  {
   "cell_type": "code",
   "execution_count": null,
   "id": "e4dee74c",
   "metadata": {},
   "outputs": [],
   "source": []
  },
  {
   "cell_type": "code",
   "execution_count": null,
   "id": "5daa3a6e",
   "metadata": {},
   "outputs": [],
   "source": []
  },
  {
   "cell_type": "code",
   "execution_count": null,
   "id": "c09b3f1b",
   "metadata": {},
   "outputs": [],
   "source": []
  },
  {
   "cell_type": "code",
   "execution_count": null,
   "id": "9a50d122",
   "metadata": {},
   "outputs": [],
   "source": []
  },
  {
   "cell_type": "code",
   "execution_count": null,
   "id": "a5cecc60",
   "metadata": {},
   "outputs": [],
   "source": []
  },
  {
   "cell_type": "code",
   "execution_count": null,
   "id": "86298e14",
   "metadata": {},
   "outputs": [],
   "source": []
  },
  {
   "cell_type": "code",
   "execution_count": null,
   "id": "a75b28dd",
   "metadata": {},
   "outputs": [],
   "source": []
  },
  {
   "cell_type": "code",
   "execution_count": null,
   "id": "ea84ac42",
   "metadata": {},
   "outputs": [],
   "source": []
  },
  {
   "cell_type": "code",
   "execution_count": null,
   "id": "6af3e125",
   "metadata": {},
   "outputs": [],
   "source": []
  },
  {
   "cell_type": "code",
   "execution_count": null,
   "id": "69d322f5",
   "metadata": {},
   "outputs": [],
   "source": []
  },
  {
   "cell_type": "code",
   "execution_count": null,
   "id": "016cfa01",
   "metadata": {},
   "outputs": [],
   "source": []
  },
  {
   "cell_type": "code",
   "execution_count": null,
   "id": "bb5abd32",
   "metadata": {},
   "outputs": [],
   "source": []
  },
  {
   "cell_type": "code",
   "execution_count": null,
   "id": "4453f7e8",
   "metadata": {},
   "outputs": [],
   "source": []
  },
  {
   "cell_type": "code",
   "execution_count": null,
   "id": "a2c0fbdf",
   "metadata": {},
   "outputs": [],
   "source": []
  },
  {
   "cell_type": "code",
   "execution_count": null,
   "id": "935ea585",
   "metadata": {},
   "outputs": [],
   "source": []
  },
  {
   "cell_type": "code",
   "execution_count": null,
   "id": "471d4adc",
   "metadata": {},
   "outputs": [],
   "source": []
  },
  {
   "cell_type": "code",
   "execution_count": null,
   "id": "b8bc3db1",
   "metadata": {},
   "outputs": [],
   "source": []
  },
  {
   "cell_type": "code",
   "execution_count": null,
   "id": "6043dbb2",
   "metadata": {},
   "outputs": [],
   "source": []
  },
  {
   "cell_type": "code",
   "execution_count": null,
   "id": "64dc2a4e",
   "metadata": {},
   "outputs": [],
   "source": []
  },
  {
   "cell_type": "code",
   "execution_count": null,
   "id": "aa2b3729",
   "metadata": {},
   "outputs": [],
   "source": []
  },
  {
   "cell_type": "code",
   "execution_count": null,
   "id": "45a93f27",
   "metadata": {},
   "outputs": [],
   "source": []
  },
  {
   "cell_type": "code",
   "execution_count": null,
   "id": "98c0937a",
   "metadata": {},
   "outputs": [],
   "source": []
  }
 ],
 "metadata": {
  "kernelspec": {
   "display_name": "Python 3",
   "language": "python",
   "name": "python3"
  },
  "language_info": {
   "codemirror_mode": {
    "name": "ipython",
    "version": 3
   },
   "file_extension": ".py",
   "mimetype": "text/x-python",
   "name": "python",
   "nbconvert_exporter": "python",
   "pygments_lexer": "ipython3",
   "version": "3.8.8"
  }
 },
 "nbformat": 4,
 "nbformat_minor": 5
}
