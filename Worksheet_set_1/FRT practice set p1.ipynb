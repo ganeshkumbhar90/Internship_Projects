{
 "cells": [
  {
   "cell_type": "raw",
   "id": "1c5d6d64",
   "metadata": {},
   "source": [
    "                   #  Python Worksheet"
   ]
  },
  {
   "cell_type": "raw",
   "id": "ac803513",
   "metadata": {},
   "source": [
    "# multiple choice Questions\n",
    "1. C \n",
    "2. B \n",
    "3. A \n",
    "4. A \n",
    "5. D \n",
    "6. C\n",
    "7. A\n",
    "8. C\n",
    "9. A, C\n",
    "10. A, B\n"
   ]
  },
  {
   "cell_type": "code",
   "execution_count": null,
   "id": "cfaf73b9",
   "metadata": {},
   "outputs": [],
   "source": [
    "# Q11. Write a python program to find the factorial of a number."
   ]
  },
  {
   "cell_type": "code",
   "execution_count": null,
   "id": "0ca56e14",
   "metadata": {},
   "outputs": [],
   "source": [
    " # taking input from customer\n",
    "    \n",
    "n=int(input(\"Please Enter a Valid Number: \"))  \n",
    "\n",
    "start=1  # initializing\n",
    "# using conditional statement for 0 and 1.\n",
    "\n",
    "if n<0:\n",
    "    print(\"FActorial of Negative Number Doesn't Exist\")\n",
    "elif n==0:\n",
    "    print(\"Factorial of '0' is '1'\")\n",
    "else:\n",
    "    \n",
    "    for i in range(1,n+1):\n",
    "        start=start*i    # value updating\n",
    "        \n",
    "    # printing final result\n",
    "    \n",
    "    print(\"Factorial of a given Number\",n, \"is:\",start)"
   ]
  },
  {
   "cell_type": "code",
   "execution_count": 7,
   "id": "020e4abf",
   "metadata": {},
   "outputs": [],
   "source": [
    "# 14. Write a Python program to get the third side of right-angled triangle from two given sides.\n"
   ]
  },
  {
   "cell_type": "code",
   "execution_count": 8,
   "id": "65f96419",
   "metadata": {},
   "outputs": [],
   "source": [
    "# imort math function\n",
    "import math"
   ]
  },
  {
   "cell_type": "code",
   "execution_count": 12,
   "id": "2f1ac499",
   "metadata": {},
   "outputs": [
    {
     "name": "stdout",
     "output_type": "stream",
     "text": [
      "Enter 1st side: 2\n",
      "Enter 2nd side: 4\n",
      "The 3rd side of triangle is: 4.47213595499958\n"
     ]
    }
   ],
   "source": [
    "# taking input of known sides from customer\n",
    "\n",
    "a=float(input('Enter length of 1st side: '))\n",
    "b=float(input('Enter length of  2nd side: '))\n",
    "\n",
    "# use of pythagorous theorem and math function\n",
    "\n",
    "c=math.sqrt(a**2+b**2)\n",
    "\n",
    "# print the final result\n",
    "\n",
    "print(\"The length 3rd side of triangle is:\", c)\n"
   ]
  },
  {
   "cell_type": "code",
   "execution_count": 1,
   "id": "94bd60d6",
   "metadata": {},
   "outputs": [],
   "source": [
    "# Write a python program to find whether a number is prime or composite."
   ]
  },
  {
   "cell_type": "code",
   "execution_count": 29,
   "id": "faec6a6e",
   "metadata": {},
   "outputs": [
    {
     "name": "stdout",
     "output_type": "stream",
     "text": [
      "Please Enter a number 11\n",
      "11 is a prime number\n"
     ]
    }
   ],
   "source": [
    "num=int(input(\"Please Enter a number \"))\n",
    "if num>1:\n",
    "    for i in range(2,num):\n",
    "            if num%i==0:\n",
    "                print(num,'is not a prime number')\n",
    "                break\n",
    "    else:\n",
    "        print(num,'is a prime number')\n",
    "elif num<0:\n",
    "    print(\"Pleas enter a valid number\")\n",
    "elif num==0 or 1:\n",
    "    print(\"Not a prime nor a composite\")\n",
    "\n",
    "else:\n",
    "    print(num,\"is not a prime\")"
   ]
  },
  {
   "cell_type": "code",
   "execution_count": null,
   "id": "8f085785",
   "metadata": {},
   "outputs": [],
   "source": [
    "# Write a python program to check whether a given string is palindrome or not."
   ]
  },
  {
   "cell_type": "code",
   "execution_count": 33,
   "id": "56fa6c1c",
   "metadata": {},
   "outputs": [
    {
     "name": "stdout",
     "output_type": "stream",
     "text": [
      "Enter a valid word: ganesh\n",
      "ganesh is not a palindrome word\n"
     ]
    }
   ],
   "source": [
    "pal_word=input(\"Enter a valid word: \")\n",
    "rev_word=reversed(pal_word)\n",
    "if list(pal_word)==list(rev_word):\n",
    "    print(pal_word,\"is a palingdrome word\")\n",
    "else:\n",
    "    print(pal_word,\"is not a palindrome word\")"
   ]
  },
  {
   "cell_type": "code",
   "execution_count": 63,
   "id": "373fa4fc",
   "metadata": {},
   "outputs": [
    {
     "name": "stdout",
     "output_type": "stream",
     "text": [
      "Enter a word: k\n",
      "k 1\n"
     ]
    },
    {
     "ename": "IndexError",
     "evalue": "string index out of range",
     "output_type": "error",
     "traceback": [
      "\u001b[1;31m---------------------------------------------------------------------------\u001b[0m",
      "\u001b[1;31mIndexError\u001b[0m                                Traceback (most recent call last)",
      "\u001b[1;32m<ipython-input-63-975891454561>\u001b[0m in \u001b[0;36m<module>\u001b[1;34m\u001b[0m\n\u001b[0;32m      4\u001b[0m \u001b[1;33m\u001b[0m\u001b[0m\n\u001b[0;32m      5\u001b[0m \u001b[1;32mfor\u001b[0m \u001b[0mi\u001b[0m \u001b[1;32min\u001b[0m \u001b[0mrange\u001b[0m\u001b[1;33m(\u001b[0m\u001b[1;36m0\u001b[0m\u001b[1;33m,\u001b[0m\u001b[1;36m26\u001b[0m\u001b[1;33m)\u001b[0m\u001b[1;33m:\u001b[0m\u001b[1;33m\u001b[0m\u001b[1;33m\u001b[0m\u001b[0m\n\u001b[1;32m----> 6\u001b[1;33m     \u001b[0mprint\u001b[0m\u001b[1;33m(\u001b[0m\u001b[0mword\u001b[0m\u001b[1;33m[\u001b[0m\u001b[0mi\u001b[0m\u001b[1;33m]\u001b[0m\u001b[1;33m,\u001b[0m\u001b[0mword\u001b[0m\u001b[1;33m.\u001b[0m\u001b[0mcount\u001b[0m\u001b[1;33m(\u001b[0m\u001b[0mword\u001b[0m\u001b[1;33m[\u001b[0m\u001b[0mi\u001b[0m\u001b[1;33m]\u001b[0m\u001b[1;33m)\u001b[0m\u001b[1;33m)\u001b[0m\u001b[1;33m\u001b[0m\u001b[1;33m\u001b[0m\u001b[0m\n\u001b[0m\u001b[0;32m      7\u001b[0m \u001b[1;33m\u001b[0m\u001b[0m\n",
      "\u001b[1;31mIndexError\u001b[0m: string index out of range"
     ]
    }
   ],
   "source": [
    "word = input(\"Enter a word: \")\n",
    "\n",
    "alphabet=['a','b','c','d','e','f','g','h','i','j','k','l','m','n','o','p','q','r','s','t','u','v','w','x','y','z']\n",
    "\n",
    "for i in range(0,26):\n",
    "    print(word[i],word.count(word[i]))\n",
    "    "
   ]
  },
  {
   "cell_type": "code",
   "execution_count": null,
   "id": "0c046c79",
   "metadata": {},
   "outputs": [],
   "source": []
  }
 ],
 "metadata": {
  "kernelspec": {
   "display_name": "Python 3",
   "language": "python",
   "name": "python3"
  },
  "language_info": {
   "codemirror_mode": {
    "name": "ipython",
    "version": 3
   },
   "file_extension": ".py",
   "mimetype": "text/x-python",
   "name": "python",
   "nbconvert_exporter": "python",
   "pygments_lexer": "ipython3",
   "version": "3.8.8"
  }
 },
 "nbformat": 4,
 "nbformat_minor": 5
}
