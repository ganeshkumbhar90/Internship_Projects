{
 "cells": [
  {
   "cell_type": "markdown",
   "id": "fe806105",
   "metadata": {},
   "source": [
    "### Q1. Write a python program which searches all the product under a particular product from www.amazon.in. The product to be searched will be taken as input from user. For e.g. If user input is ‘guitar’. Then search for guitars."
   ]
  },
  {
   "cell_type": "code",
   "execution_count": 2,
   "id": "03873c3b",
   "metadata": {},
   "outputs": [],
   "source": [
    "# import necessary liabraries\n",
    "import pandas as pd \n",
    "import numpy as np \n",
    "import selenium\n",
    "from selenium import webdriver\n",
    "import time\n",
    "from selenium.common.exceptions import NoSuchElementException\n",
    "from selenium.common.exceptions import StaleElementReferenceException\n",
    "import warnings\n",
    "warnings.filterwarnings('ignore')"
   ]
  },
  {
   "cell_type": "code",
   "execution_count": 3,
   "id": "dce9a9b0",
   "metadata": {},
   "outputs": [],
   "source": [
    "# connection to the webdriver\n",
    "driver=webdriver.Chrome(\"D:\\Internship Problems\\selenium\\chromedriver_win32\\chromedriver.exe\")"
   ]
  },
  {
   "cell_type": "code",
   "execution_count": 4,
   "id": "71528c71",
   "metadata": {},
   "outputs": [],
   "source": [
    "# connection to url\n",
    "driver.get(\"https://www.amazon.in/\")"
   ]
  },
  {
   "cell_type": "code",
   "execution_count": 5,
   "id": "bbd88dc3",
   "metadata": {},
   "outputs": [
    {
     "data": {
      "text/plain": [
       "<selenium.webdriver.remote.webelement.WebElement (session=\"506dcd04a25d0ae927666ac55177e13c\", element=\"819a03e6-e0a1-4bd3-9d08-bad06b766c43\")>"
      ]
     },
     "execution_count": 5,
     "metadata": {},
     "output_type": "execute_result"
    }
   ],
   "source": [
    "# finding search job bar using xpath\n",
    "search_bar=driver.find_element_by_id('twotabsearchtextbox')\n",
    "search_bar"
   ]
  },
  {
   "cell_type": "code",
   "execution_count": 6,
   "id": "1c8db784",
   "metadata": {},
   "outputs": [
    {
     "name": "stdout",
     "output_type": "stream",
     "text": [
      "Please Enter Product Name: smartphones\n"
     ]
    }
   ],
   "source": [
    "search_bar.send_keys(input(\"Please Enter Product Name: \"))"
   ]
  },
  {
   "cell_type": "code",
   "execution_count": 7,
   "id": "18b405b9",
   "metadata": {},
   "outputs": [],
   "source": [
    "# Clicking on search button\n",
    "search_button=driver.find_element_by_xpath('//div[@class=\"nav-search-submit nav-sprite\"]')"
   ]
  },
  {
   "cell_type": "code",
   "execution_count": 8,
   "id": "289a20cc",
   "metadata": {},
   "outputs": [],
   "source": [
    "search_button.click()"
   ]
  },
  {
   "cell_type": "markdown",
   "id": "5a1f4856",
   "metadata": {},
   "source": [
    "### Fetching urls"
   ]
  },
  {
   "cell_type": "code",
   "execution_count": 9,
   "id": "5864972b",
   "metadata": {},
   "outputs": [],
   "source": [
    "urls=[]\n",
    "for i in driver.find_elements_by_xpath(\"//a[@class='a-link-normal s-link-style a-text-normal']\"):\n",
    "    urls.append(i.get_attribute('href'))"
   ]
  },
  {
   "cell_type": "code",
   "execution_count": 10,
   "id": "882be719",
   "metadata": {},
   "outputs": [
    {
     "data": {
      "text/plain": [
       "25"
      ]
     },
     "execution_count": 10,
     "metadata": {},
     "output_type": "execute_result"
    }
   ],
   "source": [
    "len(urls)"
   ]
  },
  {
   "cell_type": "code",
   "execution_count": 11,
   "id": "a75ab76c",
   "metadata": {},
   "outputs": [
    {
     "data": {
      "text/plain": [
       "['https://www.amazon.in/gp/slredirect/picassoRedirect.html/ref=pa_sp_atf_aps_sr_pg1_1?ie=UTF8&adId=A0813292172W1Y856DZ7Y&url=%2FApple-iPhone-13-Pro-128GB%2Fdp%2FB09G99YPQM%2Fref%3Dsr_1_1_sspa%3Fcrid%3D3HT1LWDQC6V0G%26keywords%3Dsmartphones%26qid%3D1642994029%26sprefix%3Dsmartphones%252Caps%252C748%26sr%3D8-1-spons%26psc%3D1&qualifier=1642994029&id=8472268201763430&widgetName=sp_atf',\n",
       " 'https://www.amazon.in/gp/slredirect/picassoRedirect.html/ref=pa_sp_atf_aps_sr_pg1_1?ie=UTF8&adId=A01946222UAN1L5EASQWR&url=%2FNew-Apple-iPhone-11-64GB%2Fdp%2FB08L89J9G3%2Fref%3Dsr_1_2_sspa%3Fcrid%3D3HT1LWDQC6V0G%26keywords%3Dsmartphones%26qid%3D1642994029%26sprefix%3Dsmartphones%252Caps%252C748%26sr%3D8-2-spons%26psc%3D1&qualifier=1642994029&id=8472268201763430&widgetName=sp_atf',\n",
       " 'https://www.amazon.in/Oppo-Mystery-Storage-Additional-Exchange/dp/B08444S68L/ref=sr_1_3?crid=3HT1LWDQC6V0G&keywords=smartphones&qid=1642994029&sprefix=smartphones%2Caps%2C748&sr=8-3',\n",
       " 'https://www.amazon.in/Redmi-9A-Midnight-2GB-32GB/dp/B08697N43G/ref=sr_1_4?crid=3HT1LWDQC6V0G&keywords=smartphones&qid=1642994029&sprefix=smartphones%2Caps%2C748&sr=8-4',\n",
       " 'https://www.amazon.in/Oppo-Fantasy-Storage-Additional-Exchange/dp/B08444SXZ6/ref=sr_1_5?crid=3HT1LWDQC6V0G&keywords=smartphones&qid=1642994029&sprefix=smartphones%2Caps%2C748&sr=8-5',\n",
       " 'https://www.amazon.in/iQOO-Storage-Processor-FlashCharge-Replacement/dp/B07WHS6QT7/ref=sxin_12?asc_contentid=amzn1.osa.5bb06cb3-ee91-4459-a546-1627db6b54ff.A21TJRUUN4KGV.en_IN&asc_contenttype=article&ascsubtag=amzn1.osa.5bb06cb3-ee91-4459-a546-1627db6b54ff.A21TJRUUN4KGV.en_IN&creativeASIN=B07WHS6QT7&crid=3HT1LWDQC6V0G&cv_ct_cx=smartphones&cv_ct_id=amzn1.osa.5bb06cb3-ee91-4459-a546-1627db6b54ff.A21TJRUUN4KGV.en_IN&cv_ct_pg=search&cv_ct_we=asin&cv_ct_wn=osp-single-source-earns-comm&keywords=smartphones&linkCode=oas&pd_rd_i=B07WHS6QT7&pd_rd_r=76c0523e-ee0c-44bb-8adf-d0a2ac6f3a90&pd_rd_w=hapzu&pd_rd_wg=ktyXe&pf_rd_p=0e89a72f-7500-4160-954f-faff18efeda5&pf_rd_r=TJJPB0HY530GAPJ9X9E1&qid=1642994029&sprefix=smartphones%2Caps%2C748&sr=1-1-61f4c597-7a45-4a97-bd75-c52903f8ee93&tag=gadgettimes.com-21',\n",
       " 'https://www.amazon.in/OnePlus-Nord-Blue-128GB-Storage/dp/B097RD2JX8/ref=sxin_12?asc_contentid=amzn1.osa.5bb06cb3-ee91-4459-a546-1627db6b54ff.A21TJRUUN4KGV.en_IN&asc_contenttype=article&ascsubtag=amzn1.osa.5bb06cb3-ee91-4459-a546-1627db6b54ff.A21TJRUUN4KGV.en_IN&creativeASIN=B097RD2JX8&crid=3HT1LWDQC6V0G&cv_ct_cx=smartphones&cv_ct_id=amzn1.osa.5bb06cb3-ee91-4459-a546-1627db6b54ff.A21TJRUUN4KGV.en_IN&cv_ct_pg=search&cv_ct_we=asin&cv_ct_wn=osp-single-source-earns-comm&keywords=smartphones&linkCode=oas&pd_rd_i=B097RD2JX8&pd_rd_r=76c0523e-ee0c-44bb-8adf-d0a2ac6f3a90&pd_rd_w=hapzu&pd_rd_wg=ktyXe&pf_rd_p=0e89a72f-7500-4160-954f-faff18efeda5&pf_rd_r=TJJPB0HY530GAPJ9X9E1&qid=1642994029&sprefix=smartphones%2Caps%2C748&sr=1-2-61f4c597-7a45-4a97-bd75-c52903f8ee93&tag=gadgettimes.com-21',\n",
       " 'https://www.amazon.in/Samsung-Storage-Snapdragon-sAMOLED-Display/dp/B09CV6FJ62/ref=sxin_12?asc_contentid=amzn1.osa.5bb06cb3-ee91-4459-a546-1627db6b54ff.A21TJRUUN4KGV.en_IN&asc_contenttype=article&ascsubtag=amzn1.osa.5bb06cb3-ee91-4459-a546-1627db6b54ff.A21TJRUUN4KGV.en_IN&creativeASIN=B09CV6FJ62&crid=3HT1LWDQC6V0G&cv_ct_cx=smartphones&cv_ct_id=amzn1.osa.5bb06cb3-ee91-4459-a546-1627db6b54ff.A21TJRUUN4KGV.en_IN&cv_ct_pg=search&cv_ct_we=asin&cv_ct_wn=osp-single-source-earns-comm&keywords=smartphones&linkCode=oas&pd_rd_i=B09CV6FJ62&pd_rd_r=76c0523e-ee0c-44bb-8adf-d0a2ac6f3a90&pd_rd_w=hapzu&pd_rd_wg=ktyXe&pf_rd_p=0e89a72f-7500-4160-954f-faff18efeda5&pf_rd_r=TJJPB0HY530GAPJ9X9E1&qid=1642994029&sprefix=smartphones%2Caps%2C748&sr=1-3-61f4c597-7a45-4a97-bd75-c52903f8ee93&tag=gadgettimes.com-21',\n",
       " 'https://www.amazon.in/OPPO-Fluid-Black-128GB-Storage/dp/B08VB2CMR3/ref=sr_1_6?crid=3HT1LWDQC6V0G&keywords=smartphones&qid=1642994029&sprefix=smartphones%2Caps%2C748&sr=8-6',\n",
       " 'https://www.amazon.in/Redmi-Activ-Carbon-Black-Storage/dp/B09GFP6XHG/ref=sr_1_7?crid=3HT1LWDQC6V0G&keywords=smartphones&qid=1642994029&sprefix=smartphones%2Caps%2C748&sr=8-7',\n",
       " 'https://www.amazon.in/Jio-Phone-Next-Blue-Smartphone/dp/B09P8RC8HG/ref=sr_1_8?crid=3HT1LWDQC6V0G&keywords=smartphones&qid=1642994029&sprefix=smartphones%2Caps%2C748&sr=8-8',\n",
       " 'https://www.amazon.in/Tecno-5000mAh-Camera-Splash-Resistant/dp/B09PRDHRKV/ref=sr_1_9?crid=3HT1LWDQC6V0G&keywords=smartphones&qid=1642994029&sprefix=smartphones%2Caps%2C748&sr=8-9',\n",
       " 'https://www.amazon.in/Redmi-Activ-Carbon-Black-Storage/dp/B09GFPVD9Y/ref=sr_1_10?crid=3HT1LWDQC6V0G&keywords=smartphones&qid=1642994029&sprefix=smartphones%2Caps%2C748&sr=8-10',\n",
       " 'https://www.amazon.in/gp/slredirect/picassoRedirect.html/ref=pa_sp_mtf_aps_sr_pg1_1?ie=UTF8&adId=A08112841XRYY3ZGOXS40&url=%2FApple-iPhone-13-128GB-Starlight%2Fdp%2FB09G9D8KRQ%2Fref%3Dsr_1_11_sspa%3Fcrid%3D3HT1LWDQC6V0G%26keywords%3Dsmartphones%26qid%3D1642994029%26sprefix%3Dsmartphones%252Caps%252C748%26sr%3D8-11-spons%26psc%3D1&qualifier=1642994029&id=8472268201763430&widgetName=sp_mtf',\n",
       " 'https://www.amazon.in/gp/slredirect/picassoRedirect.html/ref=pa_sp_mtf_aps_sr_pg1_1?ie=UTF8&adId=A0815076339YP1BR42CCH&url=%2FApple-iPhone-Pro-Max-128GB%2Fdp%2FB09G9DBNNN%2Fref%3Dsr_1_12_sspa%3Fcrid%3D3HT1LWDQC6V0G%26keywords%3Dsmartphones%26qid%3D1642994029%26sprefix%3Dsmartphones%252Caps%252C748%26sr%3D8-12-spons%26psc%3D1&qualifier=1642994029&id=8472268201763430&widgetName=sp_mtf',\n",
       " 'https://www.amazon.in/Redmi-Note-10S/dp/B08LRDM44F/ref=sr_1_13?crid=3HT1LWDQC6V0G&keywords=smartphones&qid=1642994029&sprefix=smartphones%2Caps%2C748&sr=8-13',\n",
       " 'https://www.amazon.in/OPPO-Fantastic-Purple-128GB-Storage/dp/B08VB34KJ1/ref=sr_1_14?crid=3HT1LWDQC6V0G&keywords=smartphones&qid=1642994029&sprefix=smartphones%2Caps%2C748&sr=8-14',\n",
       " 'https://www.amazon.in/Samsung-Galaxy-M12-Storage-Processor/dp/B08XGDN3TZ/ref=sr_1_15?crid=3HT1LWDQC6V0G&keywords=smartphones&qid=1642994029&sprefix=smartphones%2Caps%2C748&sr=8-15',\n",
       " 'https://www.amazon.in/realme-narzo-Mint-Green-Storage/dp/B09FKBQ3JM/ref=sr_1_16?crid=3HT1LWDQC6V0G&keywords=smartphones&qid=1642994029&sprefix=smartphones%2Caps%2C748&sr=8-16',\n",
       " 'https://www.amazon.in/KALL-Smartphone-Inch-32GB-Blue/dp/B09Q5KZCDK/ref=sr_1_17?crid=3HT1LWDQC6V0G&keywords=smartphones&qid=1642994029&sprefix=smartphones%2Caps%2C748&sr=8-17',\n",
       " 'https://www.amazon.in/Lava-Notfication-recoding-Military-Certified/dp/B09BF8JBWX/ref=sr_1_18?crid=3HT1LWDQC6V0G&keywords=smartphones&qid=1642994029&sprefix=smartphones%2Caps%2C748&sr=8-18',\n",
       " 'https://www.amazon.in/KALL-Smartphone-Inch-32GB-Grey/dp/B09Q55N2J2/ref=sr_1_19?crid=3HT1LWDQC6V0G&keywords=smartphones&qid=1642994029&sprefix=smartphones%2Caps%2C748&sr=8-19',\n",
       " 'https://www.amazon.in/Lava-A1-Blue-Silver/dp/B09BF91NV5/ref=sr_1_20?crid=3HT1LWDQC6V0G&keywords=smartphones&qid=1642994029&sprefix=smartphones%2Caps%2C748&sr=8-20',\n",
       " 'https://www.amazon.in/gp/slredirect/picassoRedirect.html/ref=pa_sp_btf_aps_sr_pg1_1?ie=UTF8&adId=A0193050JZLE7U2NPB4A&url=%2FNew-Apple-iPhone-Mini-64GB%2Fdp%2FB0932PTZ5V%2Fref%3Dsr_1_21_sspa%3Fcrid%3D3HT1LWDQC6V0G%26keywords%3Dsmartphones%26qid%3D1642994029%26sprefix%3Dsmartphones%252Caps%252C748%26sr%3D8-21-spons%26psc%3D1&qualifier=1642994029&id=8472268201763430&widgetName=sp_btf',\n",
       " 'https://www.amazon.in/gp/slredirect/picassoRedirect.html/ref=pa_sp_btf_aps_sr_pg1_1?ie=UTF8&adId=A07913922V8TZB23O4BEO&url=%2FApple-iPhone-13-Mini-256GB%2Fdp%2FB09G99CW2C%2Fref%3Dsr_1_22_sspa%3Fcrid%3D3HT1LWDQC6V0G%26keywords%3Dsmartphones%26qid%3D1642994029%26sprefix%3Dsmartphones%252Caps%252C748%26sr%3D8-22-spons%26psc%3D1&qualifier=1642994029&id=8472268201763430&widgetName=sp_btf']"
      ]
     },
     "execution_count": 11,
     "metadata": {},
     "output_type": "execute_result"
    }
   ],
   "source": [
    "urls"
   ]
  },
  {
   "cell_type": "markdown",
   "id": "de290312",
   "metadata": {},
   "source": [
    "### Q2. In the above question, now scrape the following details of each product listed in first 3 pages of your search results and save it in a data frame and csv. In case if any product has less than 3 pages in search results then scrape all the products available under that product name. Details to be scraped are: \"Brand Name\", \"Name of the Product\", \"Price\", \"Return/Exchange\", \"Expected Delivery\", \"Availability\" and “Product URL”. In case, if any of the details are missing for any of the product then replace it by “-“."
   ]
  },
  {
   "cell_type": "code",
   "execution_count": 12,
   "id": "2b4e7880",
   "metadata": {},
   "outputs": [],
   "source": [
    "# efining variables to scrap data\n",
    "phone_name=[]\n",
    "phone_mrp=[]\n",
    "phone_price=[]\n",
    "return_exchange=[]\n",
    "expected_delivery=[]"
   ]
  },
  {
   "cell_type": "code",
   "execution_count": 28,
   "id": "f7a5e6e6",
   "metadata": {},
   "outputs": [],
   "source": [
    "for i in urls:\n",
    "    driver.get(i)\n",
    "    time.sleep(3)\n",
    "    # Fetching book name\n",
    "    try:\n",
    "        phone=driver.find_elements_by_xpath(\"//a[@class='a-link-normal s-link-style a-text-normal']\")\n",
    "        phone_name.append(phone.text.replace(\"/n\",\"new line\"))\n",
    "    except:\n",
    "        phone_name.append('-')"
   ]
  },
  {
   "cell_type": "code",
   "execution_count": 29,
   "id": "a9034120",
   "metadata": {},
   "outputs": [
    {
     "data": {
      "text/plain": [
       "75"
      ]
     },
     "execution_count": 29,
     "metadata": {},
     "output_type": "execute_result"
    }
   ],
   "source": [
    "len(phone_name)"
   ]
  },
  {
   "cell_type": "code",
   "execution_count": 30,
   "id": "ea2876a1",
   "metadata": {},
   "outputs": [
    {
     "data": {
      "text/plain": [
       "['-',\n",
       " '-',\n",
       " '-',\n",
       " '-',\n",
       " '-',\n",
       " '-',\n",
       " '-',\n",
       " '-',\n",
       " '-',\n",
       " '-',\n",
       " '-',\n",
       " '-',\n",
       " '-',\n",
       " '-',\n",
       " '-',\n",
       " '-',\n",
       " '-',\n",
       " '-',\n",
       " '-',\n",
       " '-',\n",
       " '-',\n",
       " '-',\n",
       " '-',\n",
       " '-',\n",
       " '-',\n",
       " '-',\n",
       " '-',\n",
       " '-',\n",
       " '-',\n",
       " '-',\n",
       " '-',\n",
       " '-',\n",
       " '-',\n",
       " '-',\n",
       " '-',\n",
       " '-',\n",
       " '-',\n",
       " '-',\n",
       " '-',\n",
       " '-',\n",
       " '-',\n",
       " '-',\n",
       " '-',\n",
       " '-',\n",
       " '-',\n",
       " '-',\n",
       " '-',\n",
       " '-',\n",
       " '-',\n",
       " '-',\n",
       " '-',\n",
       " '-',\n",
       " '-',\n",
       " '-',\n",
       " '-',\n",
       " '-',\n",
       " '-',\n",
       " '-',\n",
       " '-',\n",
       " '-',\n",
       " '-',\n",
       " '-',\n",
       " '-',\n",
       " '-',\n",
       " '-',\n",
       " '-',\n",
       " '-',\n",
       " '-',\n",
       " '-',\n",
       " '-',\n",
       " '-',\n",
       " '-',\n",
       " '-',\n",
       " '-',\n",
       " '-']"
      ]
     },
     "execution_count": 30,
     "metadata": {},
     "output_type": "execute_result"
    }
   ],
   "source": [
    "phone_name"
   ]
  },
  {
   "cell_type": "code",
   "execution_count": 15,
   "id": "3131a81d",
   "metadata": {},
   "outputs": [],
   "source": [
    "for i in urls:\n",
    "    driver.get(i)\n",
    "    time.sleep(3)\n",
    "    # Feetching mrp of phone\n",
    "    try:\n",
    "        mrp=driver.find_elements_by_xpath(\"//span[@class='a-price a-text-price']\")\n",
    "        phone_mrp.append(mrp.replace(\"/n\",\"new line\"))\n",
    "    except:\n",
    "        phone_mrp.append('-')"
   ]
  },
  {
   "cell_type": "code",
   "execution_count": 16,
   "id": "865784e7",
   "metadata": {},
   "outputs": [
    {
     "data": {
      "text/plain": [
       "25"
      ]
     },
     "execution_count": 16,
     "metadata": {},
     "output_type": "execute_result"
    }
   ],
   "source": [
    "len(phone_mrp)"
   ]
  },
  {
   "cell_type": "code",
   "execution_count": 17,
   "id": "a2b707e9",
   "metadata": {},
   "outputs": [
    {
     "data": {
      "text/plain": [
       "['-',\n",
       " '-',\n",
       " '-',\n",
       " '-',\n",
       " '-',\n",
       " '-',\n",
       " '-',\n",
       " '-',\n",
       " '-',\n",
       " '-',\n",
       " '-',\n",
       " '-',\n",
       " '-',\n",
       " '-',\n",
       " '-',\n",
       " '-',\n",
       " '-',\n",
       " '-',\n",
       " '-',\n",
       " '-',\n",
       " '-',\n",
       " '-',\n",
       " '-',\n",
       " '-',\n",
       " '-']"
      ]
     },
     "execution_count": 17,
     "metadata": {},
     "output_type": "execute_result"
    }
   ],
   "source": [
    "phone_mrp"
   ]
  },
  {
   "cell_type": "code",
   "execution_count": 20,
   "id": "ea50a4ed",
   "metadata": {},
   "outputs": [],
   "source": [
    "for i in urls:\n",
    "    driver.get(i)\n",
    "    time.sleep(3)\n",
    "    # fetching deal price of phone\n",
    "    try:\n",
    "        price=driver.find_elements_by_xpath(\"//span[@class='a-price']\")\n",
    "        phone_price.append(price.replace(\"/n\",\"new line\"))\n",
    "    except:\n",
    "        phone_price.append(\"-\")\n",
    "        \n",
    "    # fetching expected delivery\n",
    "    try:\n",
    "        delivery=driver.find_elements_by_xpath(\"//span[@class='a-text-bold']\")\n",
    "        expected_delivery.append(delivery.text.replace('/n','new line'))\n",
    "    except:\n",
    "        expected_delivery.append(\"-\")\n",
    "        "
   ]
  },
  {
   "cell_type": "code",
   "execution_count": 21,
   "id": "170f9653",
   "metadata": {},
   "outputs": [
    {
     "data": {
      "text/plain": [
       "(25, 25)"
      ]
     },
     "execution_count": 21,
     "metadata": {},
     "output_type": "execute_result"
    }
   ],
   "source": [
    "len(phone_price),len(expected_delivery)"
   ]
  },
  {
   "cell_type": "code",
   "execution_count": 22,
   "id": "3ae7dc07",
   "metadata": {},
   "outputs": [
    {
     "data": {
      "text/plain": [
       "['-',\n",
       " '-',\n",
       " '-',\n",
       " '-',\n",
       " '-',\n",
       " '-',\n",
       " '-',\n",
       " '-',\n",
       " '-',\n",
       " '-',\n",
       " '-',\n",
       " '-',\n",
       " '-',\n",
       " '-',\n",
       " '-',\n",
       " '-',\n",
       " '-',\n",
       " '-',\n",
       " '-',\n",
       " '-',\n",
       " '-',\n",
       " '-',\n",
       " '-',\n",
       " '-',\n",
       " '-']"
      ]
     },
     "execution_count": 22,
     "metadata": {},
     "output_type": "execute_result"
    }
   ],
   "source": [
    "phone_price"
   ]
  },
  {
   "cell_type": "code",
   "execution_count": 23,
   "id": "a850861e",
   "metadata": {},
   "outputs": [
    {
     "data": {
      "text/plain": [
       "['-',\n",
       " '-',\n",
       " '-',\n",
       " '-',\n",
       " '-',\n",
       " '-',\n",
       " '-',\n",
       " '-',\n",
       " '-',\n",
       " '-',\n",
       " '-',\n",
       " '-',\n",
       " '-',\n",
       " '-',\n",
       " '-',\n",
       " '-',\n",
       " '-',\n",
       " '-',\n",
       " '-',\n",
       " '-',\n",
       " '-',\n",
       " '-',\n",
       " '-',\n",
       " '-',\n",
       " '-']"
      ]
     },
     "execution_count": 23,
     "metadata": {},
     "output_type": "execute_result"
    }
   ],
   "source": [
    "expected_delivery"
   ]
  },
  {
   "cell_type": "code",
   "execution_count": 24,
   "id": "386a4e84",
   "metadata": {},
   "outputs": [
    {
     "ename": "AttributeError",
     "evalue": "'str' object has no attribute 'text'",
     "output_type": "error",
     "traceback": [
      "\u001b[1;31m---------------------------------------------------------------------------\u001b[0m",
      "\u001b[1;31mAttributeError\u001b[0m                            Traceback (most recent call last)",
      "\u001b[1;32m<ipython-input-24-a68e5b0e93c4>\u001b[0m in \u001b[0;36m<module>\u001b[1;34m\u001b[0m\n\u001b[0;32m     11\u001b[0m     \u001b[0mprice\u001b[0m\u001b[1;33m=\u001b[0m\u001b[0mdriver\u001b[0m\u001b[1;33m.\u001b[0m\u001b[0mfind_elements_by_xpath\u001b[0m\u001b[1;33m(\u001b[0m\u001b[1;34m\"//span[@class='a-price']\"\u001b[0m\u001b[1;33m)\u001b[0m\u001b[1;33m\u001b[0m\u001b[1;33m\u001b[0m\u001b[0m\n\u001b[0;32m     12\u001b[0m     \u001b[1;32mfor\u001b[0m \u001b[0mi\u001b[0m \u001b[1;32min\u001b[0m \u001b[0mprice\u001b[0m\u001b[1;33m:\u001b[0m\u001b[1;33m\u001b[0m\u001b[1;33m\u001b[0m\u001b[0m\n\u001b[1;32m---> 13\u001b[1;33m         \u001b[0mprice\u001b[0m\u001b[1;33m.\u001b[0m\u001b[0mappend\u001b[0m\u001b[1;33m(\u001b[0m\u001b[0mi\u001b[0m\u001b[1;33m.\u001b[0m\u001b[0mtext\u001b[0m\u001b[1;33m.\u001b[0m\u001b[0mreplace\u001b[0m\u001b[1;33m(\u001b[0m\u001b[1;34m\"/n\"\u001b[0m\u001b[1;33m,\u001b[0m\u001b[1;34m\"new line\"\u001b[0m\u001b[1;33m)\u001b[0m\u001b[1;33m)\u001b[0m\u001b[1;33m\u001b[0m\u001b[1;33m\u001b[0m\u001b[0m\n\u001b[0m\u001b[0;32m     14\u001b[0m     \u001b[0mdelivery\u001b[0m\u001b[1;33m=\u001b[0m\u001b[0mdriver\u001b[0m\u001b[1;33m.\u001b[0m\u001b[0mfind_elements_by_xpath\u001b[0m\u001b[1;33m(\u001b[0m\u001b[1;34m\"//span[@class='a-text-bold']\"\u001b[0m\u001b[1;33m)\u001b[0m\u001b[1;33m\u001b[0m\u001b[1;33m\u001b[0m\u001b[0m\n\u001b[0;32m     15\u001b[0m     \u001b[1;32mfor\u001b[0m \u001b[0mi\u001b[0m \u001b[1;32min\u001b[0m \u001b[0mdelivery\u001b[0m\u001b[1;33m:\u001b[0m\u001b[1;33m\u001b[0m\u001b[1;33m\u001b[0m\u001b[0m\n",
      "\u001b[1;31mAttributeError\u001b[0m: 'str' object has no attribute 'text'"
     ]
    }
   ],
   "source": [
    "# scrapping data of 2 and 3 page\n",
    "start=1\n",
    "end=3\n",
    "for page in range(start,end): #loop for scrapping data\n",
    "    phone=driver.find_elements_by_xpath(\"//span[@class='a-size-medium a-color-base a-text-normal']\")\n",
    "    for i in phone:\n",
    "        phone.append(i)\n",
    "    mrp=driver.find_elements_by_xpath(\"//span[@class='a-price a-text-price']\")\n",
    "    for i in mrp:\n",
    "        mrp.append(i.replace(\"/n\",\"new line\"))\n",
    "    price=driver.find_elements_by_xpath(\"//span[@class='a-price']\")\n",
    "    for i in price:\n",
    "        price.append(i.text.replace(\"/n\",\"new line\"))\n",
    "    delivery=driver.find_elements_by_xpath(\"//span[@class='a-text-bold']\")\n",
    "    for i in delivery:\n",
    "        delivery.append(i.text.replace('/n','new line'))\n",
    "    nxt_button=driver.find_elements_by_xpath(\"//a[@class='s-pagination-item s-pagination-next s-pagination-button s-pagination-separator']\")\n",
    "    try:\n",
    "        driver.get(nxt_button[1].get_attribute('href'))\n",
    "    except:\n",
    "        driver.get(nxt_button[0].get_attribute('href'))"
   ]
  },
  {
   "cell_type": "code",
   "execution_count": null,
   "id": "a489cd51",
   "metadata": {},
   "outputs": [],
   "source": []
  }
 ],
 "metadata": {
  "kernelspec": {
   "display_name": "Python 3",
   "language": "python",
   "name": "python3"
  },
  "language_info": {
   "codemirror_mode": {
    "name": "ipython",
    "version": 3
   },
   "file_extension": ".py",
   "mimetype": "text/x-python",
   "name": "python",
   "nbconvert_exporter": "python",
   "pygments_lexer": "ipython3",
   "version": "3.8.8"
  }
 },
 "nbformat": 4,
 "nbformat_minor": 5
}
